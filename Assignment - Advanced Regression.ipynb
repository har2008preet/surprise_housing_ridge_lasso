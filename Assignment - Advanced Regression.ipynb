{
 "cells": [
  {
   "cell_type": "markdown",
   "id": "0769e9ed",
   "metadata": {},
   "source": [
    "### 1. Data Understanding and Exploration\n",
    "\n",
    "Let's first have a look at the dataset and understand the size, attribute names etc."
   ]
  },
  {
   "cell_type": "code",
   "execution_count": 1,
   "id": "dd9ffe73",
   "metadata": {},
   "outputs": [],
   "source": [
    "import sys\n",
    "import os\n",
    "import warnings\n",
    "import pandas as pd\n",
    "import numpy as np\n",
    "import matplotlib.pyplot as plt\n",
    "import seaborn as sns\n",
    "from sklearn.preprocessing import StandardScaler,MinMaxScaler\n",
    "from sklearn.model_selection import train_test_split,GridSearchCV,KFold,cross_val_score\n",
    "from sklearn.linear_model import LinearRegression,Ridge,Lasso\n",
    "from sklearn.feature_selection import RFE\n",
    "from sklearn.metrics import r2_score\n",
    "\n",
    "warnings.filterwarnings('ignore')\n",
    "%matplotlib inline"
   ]
  },
  {
   "cell_type": "code",
   "execution_count": 2,
   "id": "947f5dc5",
   "metadata": {},
   "outputs": [],
   "source": [
    "prices = pd.read_csv('train.csv')"
   ]
  },
  {
   "cell_type": "code",
   "execution_count": 3,
   "id": "aefde942",
   "metadata": {},
   "outputs": [
    {
     "name": "stdout",
     "output_type": "stream",
     "text": [
      "<class 'pandas.core.frame.DataFrame'>\n",
      "RangeIndex: 1460 entries, 0 to 1459\n",
      "Data columns (total 81 columns):\n",
      " #   Column         Non-Null Count  Dtype  \n",
      "---  ------         --------------  -----  \n",
      " 0   Id             1460 non-null   int64  \n",
      " 1   MSSubClass     1460 non-null   int64  \n",
      " 2   MSZoning       1460 non-null   object \n",
      " 3   LotFrontage    1201 non-null   float64\n",
      " 4   LotArea        1460 non-null   int64  \n",
      " 5   Street         1460 non-null   object \n",
      " 6   Alley          91 non-null     object \n",
      " 7   LotShape       1460 non-null   object \n",
      " 8   LandContour    1460 non-null   object \n",
      " 9   Utilities      1460 non-null   object \n",
      " 10  LotConfig      1460 non-null   object \n",
      " 11  LandSlope      1460 non-null   object \n",
      " 12  Neighborhood   1460 non-null   object \n",
      " 13  Condition1     1460 non-null   object \n",
      " 14  Condition2     1460 non-null   object \n",
      " 15  BldgType       1460 non-null   object \n",
      " 16  HouseStyle     1460 non-null   object \n",
      " 17  OverallQual    1460 non-null   int64  \n",
      " 18  OverallCond    1460 non-null   int64  \n",
      " 19  YearBuilt      1460 non-null   int64  \n",
      " 20  YearRemodAdd   1460 non-null   int64  \n",
      " 21  RoofStyle      1460 non-null   object \n",
      " 22  RoofMatl       1460 non-null   object \n",
      " 23  Exterior1st    1460 non-null   object \n",
      " 24  Exterior2nd    1460 non-null   object \n",
      " 25  MasVnrType     1452 non-null   object \n",
      " 26  MasVnrArea     1452 non-null   float64\n",
      " 27  ExterQual      1460 non-null   object \n",
      " 28  ExterCond      1460 non-null   object \n",
      " 29  Foundation     1460 non-null   object \n",
      " 30  BsmtQual       1423 non-null   object \n",
      " 31  BsmtCond       1423 non-null   object \n",
      " 32  BsmtExposure   1422 non-null   object \n",
      " 33  BsmtFinType1   1423 non-null   object \n",
      " 34  BsmtFinSF1     1460 non-null   int64  \n",
      " 35  BsmtFinType2   1422 non-null   object \n",
      " 36  BsmtFinSF2     1460 non-null   int64  \n",
      " 37  BsmtUnfSF      1460 non-null   int64  \n",
      " 38  TotalBsmtSF    1460 non-null   int64  \n",
      " 39  Heating        1460 non-null   object \n",
      " 40  HeatingQC      1460 non-null   object \n",
      " 41  CentralAir     1460 non-null   object \n",
      " 42  Electrical     1459 non-null   object \n",
      " 43  1stFlrSF       1460 non-null   int64  \n",
      " 44  2ndFlrSF       1460 non-null   int64  \n",
      " 45  LowQualFinSF   1460 non-null   int64  \n",
      " 46  GrLivArea      1460 non-null   int64  \n",
      " 47  BsmtFullBath   1460 non-null   int64  \n",
      " 48  BsmtHalfBath   1460 non-null   int64  \n",
      " 49  FullBath       1460 non-null   int64  \n",
      " 50  HalfBath       1460 non-null   int64  \n",
      " 51  BedroomAbvGr   1460 non-null   int64  \n",
      " 52  KitchenAbvGr   1460 non-null   int64  \n",
      " 53  KitchenQual    1460 non-null   object \n",
      " 54  TotRmsAbvGrd   1460 non-null   int64  \n",
      " 55  Functional     1460 non-null   object \n",
      " 56  Fireplaces     1460 non-null   int64  \n",
      " 57  FireplaceQu    770 non-null    object \n",
      " 58  GarageType     1379 non-null   object \n",
      " 59  GarageYrBlt    1379 non-null   float64\n",
      " 60  GarageFinish   1379 non-null   object \n",
      " 61  GarageCars     1460 non-null   int64  \n",
      " 62  GarageArea     1460 non-null   int64  \n",
      " 63  GarageQual     1379 non-null   object \n",
      " 64  GarageCond     1379 non-null   object \n",
      " 65  PavedDrive     1460 non-null   object \n",
      " 66  WoodDeckSF     1460 non-null   int64  \n",
      " 67  OpenPorchSF    1460 non-null   int64  \n",
      " 68  EnclosedPorch  1460 non-null   int64  \n",
      " 69  3SsnPorch      1460 non-null   int64  \n",
      " 70  ScreenPorch    1460 non-null   int64  \n",
      " 71  PoolArea       1460 non-null   int64  \n",
      " 72  PoolQC         7 non-null      object \n",
      " 73  Fence          281 non-null    object \n",
      " 74  MiscFeature    54 non-null     object \n",
      " 75  MiscVal        1460 non-null   int64  \n",
      " 76  MoSold         1460 non-null   int64  \n",
      " 77  YrSold         1460 non-null   int64  \n",
      " 78  SaleType       1460 non-null   object \n",
      " 79  SaleCondition  1460 non-null   object \n",
      " 80  SalePrice      1460 non-null   int64  \n",
      "dtypes: float64(3), int64(35), object(43)\n",
      "memory usage: 924.0+ KB\n"
     ]
    }
   ],
   "source": [
    "prices.info()"
   ]
  },
  {
   "cell_type": "markdown",
   "id": "c6ba563d",
   "metadata": {},
   "source": [
    "There seems to be some columns with null values. So checking null percentage"
   ]
  },
  {
   "cell_type": "code",
   "execution_count": 4,
   "id": "a0ecfb24",
   "metadata": {},
   "outputs": [
    {
     "name": "stdout",
     "output_type": "stream",
     "text": [
      "|               |    0 |\n",
      "|:--------------|-----:|\n",
      "| PoolQC        | 1    |\n",
      "| MiscFeature   | 0.96 |\n",
      "| Alley         | 0.94 |\n",
      "| Fence         | 0.81 |\n",
      "| FireplaceQu   | 0.47 |\n",
      "| LotFrontage   | 0.18 |\n",
      "| GarageYrBlt   | 0.06 |\n",
      "| GarageFinish  | 0.06 |\n",
      "| GarageType    | 0.06 |\n",
      "| GarageQual    | 0.06 |\n",
      "| GarageCond    | 0.06 |\n",
      "| BsmtExposure  | 0.03 |\n",
      "| BsmtQual      | 0.03 |\n",
      "| BsmtCond      | 0.03 |\n",
      "| BsmtFinType2  | 0.03 |\n",
      "| BsmtFinType1  | 0.03 |\n",
      "| MasVnrType    | 0.01 |\n",
      "| MasVnrArea    | 0.01 |\n",
      "| Id            | 0    |\n",
      "| Functional    | 0    |\n",
      "| Fireplaces    | 0    |\n",
      "| KitchenQual   | 0    |\n",
      "| KitchenAbvGr  | 0    |\n",
      "| BedroomAbvGr  | 0    |\n",
      "| HalfBath      | 0    |\n",
      "| FullBath      | 0    |\n",
      "| BsmtHalfBath  | 0    |\n",
      "| BsmtFullBath  | 0    |\n",
      "| TotRmsAbvGrd  | 0    |\n",
      "| GarageCars    | 0    |\n",
      "| LowQualFinSF  | 0    |\n",
      "| GarageArea    | 0    |\n",
      "| PavedDrive    | 0    |\n",
      "| WoodDeckSF    | 0    |\n",
      "| OpenPorchSF   | 0    |\n",
      "| EnclosedPorch | 0    |\n",
      "| 3SsnPorch     | 0    |\n",
      "| ScreenPorch   | 0    |\n",
      "| PoolArea      | 0    |\n",
      "| MiscVal       | 0    |\n",
      "| MoSold        | 0    |\n",
      "| YrSold        | 0    |\n",
      "| SaleType      | 0    |\n",
      "| SaleCondition | 0    |\n",
      "| GrLivArea     | 0    |\n",
      "| HeatingQC     | 0    |\n",
      "| 2ndFlrSF      | 0    |\n",
      "| LandSlope     | 0    |\n",
      "| OverallQual   | 0    |\n",
      "| HouseStyle    | 0    |\n",
      "| BldgType      | 0    |\n",
      "| Condition2    | 0    |\n",
      "| Condition1    | 0    |\n",
      "| Neighborhood  | 0    |\n",
      "| LotConfig     | 0    |\n",
      "| YearBuilt     | 0    |\n",
      "| Utilities     | 0    |\n",
      "| LandContour   | 0    |\n",
      "| LotShape      | 0    |\n",
      "| Street        | 0    |\n",
      "| LotArea       | 0    |\n",
      "| MSZoning      | 0    |\n",
      "| OverallCond   | 0    |\n",
      "| YearRemodAdd  | 0    |\n",
      "| 1stFlrSF      | 0    |\n",
      "| BsmtFinSF2    | 0    |\n",
      "| Electrical    | 0    |\n",
      "| CentralAir    | 0    |\n",
      "| MSSubClass    | 0    |\n",
      "| Heating       | 0    |\n",
      "| TotalBsmtSF   | 0    |\n",
      "| BsmtUnfSF     | 0    |\n",
      "| BsmtFinSF1    | 0    |\n",
      "| RoofStyle     | 0    |\n",
      "| Foundation    | 0    |\n",
      "| ExterCond     | 0    |\n",
      "| ExterQual     | 0    |\n",
      "| Exterior2nd   | 0    |\n",
      "| Exterior1st   | 0    |\n",
      "| RoofMatl      | 0    |\n",
      "| SalePrice     | 0    |\n"
     ]
    }
   ],
   "source": [
    "print(round(prices.isnull().sum()/len(prices.index),2).sort_values(ascending=False).to_markdown())"
   ]
  },
  {
   "cell_type": "markdown",
   "id": "16231321",
   "metadata": {},
   "source": [
    "Removing values with 10% or more null values"
   ]
  },
  {
   "cell_type": "code",
   "execution_count": 5,
   "id": "35002b69",
   "metadata": {},
   "outputs": [],
   "source": [
    "limitPer = len(prices) * .90\n",
    "prices = prices.dropna(thresh=limitPer, axis=1)"
   ]
  },
  {
   "cell_type": "code",
   "execution_count": 6,
   "id": "c4ba42a1",
   "metadata": {},
   "outputs": [
    {
     "name": "stdout",
     "output_type": "stream",
     "text": [
      "|               |    0 |\n",
      "|:--------------|-----:|\n",
      "| GarageType    | 0.06 |\n",
      "| GarageYrBlt   | 0.06 |\n",
      "| GarageFinish  | 0.06 |\n",
      "| GarageQual    | 0.06 |\n",
      "| GarageCond    | 0.06 |\n",
      "| BsmtFinType1  | 0.03 |\n",
      "| BsmtQual      | 0.03 |\n",
      "| BsmtCond      | 0.03 |\n",
      "| BsmtExposure  | 0.03 |\n",
      "| BsmtFinType2  | 0.03 |\n",
      "| MasVnrType    | 0.01 |\n",
      "| MasVnrArea    | 0.01 |\n",
      "| BedroomAbvGr  | 0    |\n",
      "| HalfBath      | 0    |\n",
      "| FullBath      | 0    |\n",
      "| BsmtHalfBath  | 0    |\n",
      "| BsmtFullBath  | 0    |\n",
      "| KitchenAbvGr  | 0    |\n",
      "| KitchenQual   | 0    |\n",
      "| GrLivArea     | 0    |\n",
      "| LowQualFinSF  | 0    |\n",
      "| TotRmsAbvGrd  | 0    |\n",
      "| Id            | 0    |\n",
      "| Functional    | 0    |\n",
      "| Fireplaces    | 0    |\n",
      "| SaleCondition | 0    |\n",
      "| SaleType      | 0    |\n",
      "| YrSold        | 0    |\n",
      "| MoSold        | 0    |\n",
      "| MiscVal       | 0    |\n",
      "| PoolArea      | 0    |\n",
      "| ScreenPorch   | 0    |\n",
      "| 3SsnPorch     | 0    |\n",
      "| EnclosedPorch | 0    |\n",
      "| OpenPorchSF   | 0    |\n",
      "| WoodDeckSF    | 0    |\n",
      "| PavedDrive    | 0    |\n",
      "| GarageArea    | 0    |\n",
      "| GarageCars    | 0    |\n",
      "| 1stFlrSF      | 0    |\n",
      "| 2ndFlrSF      | 0    |\n",
      "| Heating       | 0    |\n",
      "| Electrical    | 0    |\n",
      "| OverallCond   | 0    |\n",
      "| MSZoning      | 0    |\n",
      "| LotArea       | 0    |\n",
      "| Street        | 0    |\n",
      "| LotShape      | 0    |\n",
      "| LandContour   | 0    |\n",
      "| Utilities     | 0    |\n",
      "| LotConfig     | 0    |\n",
      "| LandSlope     | 0    |\n",
      "| Neighborhood  | 0    |\n",
      "| Condition1    | 0    |\n",
      "| Condition2    | 0    |\n",
      "| BldgType      | 0    |\n",
      "| HouseStyle    | 0    |\n",
      "| OverallQual   | 0    |\n",
      "| YearBuilt     | 0    |\n",
      "| CentralAir    | 0    |\n",
      "| YearRemodAdd  | 0    |\n",
      "| RoofStyle     | 0    |\n",
      "| RoofMatl      | 0    |\n",
      "| Exterior1st   | 0    |\n",
      "| Exterior2nd   | 0    |\n",
      "| ExterQual     | 0    |\n",
      "| ExterCond     | 0    |\n",
      "| Foundation    | 0    |\n",
      "| BsmtFinSF1    | 0    |\n",
      "| BsmtFinSF2    | 0    |\n",
      "| BsmtUnfSF     | 0    |\n",
      "| TotalBsmtSF   | 0    |\n",
      "| MSSubClass    | 0    |\n",
      "| HeatingQC     | 0    |\n",
      "| SalePrice     | 0    |\n"
     ]
    }
   ],
   "source": [
    "print(round(prices.isnull().sum()/len(prices.index),2).sort_values(ascending=False).to_markdown())"
   ]
  },
  {
   "cell_type": "markdown",
   "id": "f57941d1",
   "metadata": {},
   "source": [
    "There are still some columns which have null values, so we have to explore them individually "
   ]
  },
  {
   "cell_type": "code",
   "execution_count": 7,
   "id": "06643ea3",
   "metadata": {},
   "outputs": [],
   "source": [
    "haveNullValues = ['GarageType','GarageYrBlt','GarageFinish','GarageQual','GarageCond','BsmtFinType1','BsmtQual','BsmtCond','BsmtExposure','BsmtFinType2','MasVnrType','MasVnrArea']"
   ]
  },
  {
   "cell_type": "code",
   "execution_count": 8,
   "id": "9157e4fa",
   "metadata": {},
   "outputs": [
    {
     "data": {
      "text/plain": [
       "12"
      ]
     },
     "execution_count": 8,
     "metadata": {},
     "output_type": "execute_result"
    }
   ],
   "source": [
    "len(haveNullValues)"
   ]
  },
  {
   "cell_type": "code",
   "execution_count": 9,
   "id": "678419be",
   "metadata": {},
   "outputs": [
    {
     "name": "stdout",
     "output_type": "stream",
     "text": [
      "<class 'pandas.core.frame.DataFrame'>\n",
      "RangeIndex: 1460 entries, 0 to 1459\n",
      "Data columns (total 12 columns):\n",
      " #   Column        Non-Null Count  Dtype  \n",
      "---  ------        --------------  -----  \n",
      " 0   GarageType    1379 non-null   object \n",
      " 1   GarageYrBlt   1379 non-null   float64\n",
      " 2   GarageFinish  1379 non-null   object \n",
      " 3   GarageQual    1379 non-null   object \n",
      " 4   GarageCond    1379 non-null   object \n",
      " 5   BsmtFinType1  1423 non-null   object \n",
      " 6   BsmtQual      1423 non-null   object \n",
      " 7   BsmtCond      1423 non-null   object \n",
      " 8   BsmtExposure  1422 non-null   object \n",
      " 9   BsmtFinType2  1422 non-null   object \n",
      " 10  MasVnrType    1452 non-null   object \n",
      " 11  MasVnrArea    1452 non-null   float64\n",
      "dtypes: float64(2), object(10)\n",
      "memory usage: 137.0+ KB\n"
     ]
    }
   ],
   "source": [
    "prices[haveNullValues].info()"
   ]
  },
  {
   "cell_type": "code",
   "execution_count": 10,
   "id": "715844f7",
   "metadata": {},
   "outputs": [
    {
     "name": "stdout",
     "output_type": "stream",
     "text": [
      "Attchd     870\n",
      "Detchd     387\n",
      "BuiltIn     88\n",
      "Basment     19\n",
      "CarPort      9\n",
      "2Types       6\n",
      "Name: GarageType, dtype: int64\n",
      "\n",
      "2005.0    65\n",
      "2006.0    59\n",
      "2004.0    53\n",
      "2003.0    50\n",
      "2007.0    49\n",
      "          ..\n",
      "1927.0     1\n",
      "1900.0     1\n",
      "1906.0     1\n",
      "1908.0     1\n",
      "1933.0     1\n",
      "Name: GarageYrBlt, Length: 97, dtype: int64\n",
      "\n",
      "Unf    605\n",
      "RFn    422\n",
      "Fin    352\n",
      "Name: GarageFinish, dtype: int64\n",
      "\n",
      "TA    1311\n",
      "Fa      48\n",
      "Gd      14\n",
      "Ex       3\n",
      "Po       3\n",
      "Name: GarageQual, dtype: int64\n",
      "\n",
      "TA    1326\n",
      "Fa      35\n",
      "Gd       9\n",
      "Po       7\n",
      "Ex       2\n",
      "Name: GarageCond, dtype: int64\n",
      "\n",
      "Unf    430\n",
      "GLQ    418\n",
      "ALQ    220\n",
      "BLQ    148\n",
      "Rec    133\n",
      "LwQ     74\n",
      "Name: BsmtFinType1, dtype: int64\n",
      "\n",
      "TA    649\n",
      "Gd    618\n",
      "Ex    121\n",
      "Fa     35\n",
      "Name: BsmtQual, dtype: int64\n",
      "\n",
      "TA    1311\n",
      "Gd      65\n",
      "Fa      45\n",
      "Po       2\n",
      "Name: BsmtCond, dtype: int64\n",
      "\n",
      "No    953\n",
      "Av    221\n",
      "Gd    134\n",
      "Mn    114\n",
      "Name: BsmtExposure, dtype: int64\n",
      "\n",
      "Unf    1256\n",
      "Rec      54\n",
      "LwQ      46\n",
      "BLQ      33\n",
      "ALQ      19\n",
      "GLQ      14\n",
      "Name: BsmtFinType2, dtype: int64\n",
      "\n",
      "None       864\n",
      "BrkFace    445\n",
      "Stone      128\n",
      "BrkCmn      15\n",
      "Name: MasVnrType, dtype: int64\n",
      "\n",
      "0.0      861\n",
      "180.0      8\n",
      "72.0       8\n",
      "108.0      8\n",
      "120.0      7\n",
      "        ... \n",
      "562.0      1\n",
      "89.0       1\n",
      "921.0      1\n",
      "762.0      1\n",
      "119.0      1\n",
      "Name: MasVnrArea, Length: 327, dtype: int64\n",
      "\n"
     ]
    }
   ],
   "source": [
    "for type in haveNullValues:\n",
    "    print(prices[type].value_counts(), end='\\n\\n')"
   ]
  },
  {
   "cell_type": "markdown",
   "id": "fb432688",
   "metadata": {},
   "source": [
    "According to dictionary, NA in:\n",
    "- GarageType means No Garage in home,  So we can replace NA with NoGarage\n",
    "- GarageYrBlt is years garage old, and since NA in GarageType and GarageYrOld is equal, so GarageYrOld null will be there where there is no garage, so we replace NA with 0\n",
    "- GarageFinish is Interior finish of the garage, so it is NA in homes where there is no garage, so we can place NoGarage\n",
    "- GarageQual is garage quality, so it is NA where there is no garage, so we can replace NA with NoGarage\n",
    "- GarageCond is garage condition, so it is NA where there is no garage, so we can replace NA with NoGarage\n",
    "- BsmtFinType1 is Rating of basement finished area, so it is NA where there is no basement, so we can replace NA with NoBasement\n",
    "- BsmtFinType2 is Rating of basement finished area, so it is NA where there is no basement, so we can replace NA with NoBasement\n",
    "- BsmtQual is NA where there is no basement, so we can replace NA with NoBasement\n",
    "- BsmtCond is NA where there is no basement, so we can replace NA with NoBasement\n",
    "- BsmtExposure is NA where there is no basement, so we can replace NA with NoBasement\n",
    "- MasVnrType is NA where there is no masonry veneer, so we can replace NA with NoMasVnr\n",
    "- MasVnrArea is NA where there is no masonry veneer, so we can replace NA with 0"
   ]
  },
  {
   "cell_type": "code",
   "execution_count": 11,
   "id": "389826c8",
   "metadata": {},
   "outputs": [],
   "source": [
    "prices.GarageType.fillna('NoGarage',inplace=True)\n",
    "prices.GarageYrBlt.fillna(0,inplace=True)\n",
    "prices.GarageFinish.fillna('NoGarage',inplace=True)\n",
    "prices.GarageQual.fillna('NoGarage',inplace=True)\n",
    "prices.GarageCond.fillna('NoGarage',inplace=True)\n",
    "prices.BsmtFinType1.fillna('NoBasement',inplace=True)\n",
    "prices.BsmtFinType2.fillna('NoBasement',inplace=True)\n",
    "prices.BsmtQual.fillna('NoBasement',inplace=True)\n",
    "prices.BsmtCond.fillna('NoBasement',inplace=True)\n",
    "prices.BsmtExposure.fillna('NoBasement',inplace=True)\n",
    "prices.MasVnrType.fillna('NoMasVnr',inplace=True)\n",
    "prices.MasVnrArea.fillna(0,inplace=True)"
   ]
  },
  {
   "cell_type": "markdown",
   "id": "21168cc7",
   "metadata": {},
   "source": [
    "Dropping `Id` as it does not provide any value"
   ]
  },
  {
   "cell_type": "code",
   "execution_count": 12,
   "id": "3c9cba51",
   "metadata": {},
   "outputs": [],
   "source": [
    "prices.drop(columns=['Id'], inplace=True)"
   ]
  },
  {
   "cell_type": "markdown",
   "id": "4efa387f",
   "metadata": {},
   "source": [
    "Converting all columns which represent year, to how old it is:\n",
    "- `YearBuilt` to `YearOld`\n",
    "- `YearRemodAdd` to `YearRemodOld`\n",
    "- `GarageYrBlt` to `GarageYrOld`. Note if `GarageYrBlt` is 0, it means garage is not build, so we will replace `GaragerOld` to -1.\n",
    "- `YrSold` to `YrSoldOld`\n",
    "\n",
    "And after getting the columns, we will remove the previous columns"
   ]
  },
  {
   "cell_type": "code",
   "execution_count": 13,
   "id": "697635dd",
   "metadata": {},
   "outputs": [],
   "source": [
    "prices['YearOld'] = prices.YearBuilt.max()-prices.YearBuilt\n",
    "prices['YearRemodOld'] = prices.YearRemodAdd.max()-prices.YearRemodAdd\n",
    "prices['GarageYrOld'] = prices.GarageYrBlt.apply(lambda x: -1 if int(x)==0 else int(prices.GarageYrBlt.max())-int(x))\n",
    "prices['YrSoldOld'] = prices.YrSold.max()-prices.YrSold\n",
    "prices.drop(columns=['YearBuilt','YearRemodAdd','GarageYrBlt','YrSold'], inplace=True)"
   ]
  },
  {
   "cell_type": "code",
   "execution_count": 14,
   "id": "3736ef37",
   "metadata": {},
   "outputs": [],
   "source": [
    "categoricalFeatures = ['MSSubClass','MSZoning','Street','LotShape','LandContour',\n",
    "                       'Utilities','LotConfig','LandSlope','Neighborhood','Condition1',\n",
    "                      'Condition2','BldgType','HouseStyle','OverallQual','OverallCond',\n",
    "                      'RoofStyle','RoofMatl','Exterior1st','Exterior2nd','MasVnrType',\n",
    "                       'ExterQual','ExterCond','Foundation','BsmtQual','BsmtCond',\n",
    "                      'BsmtExposure','BsmtFinType1','BsmtFinType2','Heating','HeatingQC',\n",
    "                      'CentralAir','Electrical','KitchenQual','Functional',\n",
    "                      'GarageType','GarageFinish','GarageQual','GarageCond','PavedDrive','MoSold','SaleType','SaleCondition']\n",
    "continousFeatures = ['LotArea','YearOld','YearRemodOld','MasVnrArea','BsmtFinSF1',\n",
    "                    'BsmtFinSF2','BsmtUnfSF','TotalBsmtSF','1stFlrSF','2ndFlrSF',\n",
    "                    'LowQualFinSF','GrLivArea','BsmtFullBath','BsmtHalfBath','FullBath',\n",
    "                    'HalfBath','BedroomAbvGr','KitchenAbvGr','TotRmsAbvGrd','Fireplaces',\n",
    "                    'GarageYrOld','GarageCars','GarageArea','WoodDeckSF','OpenPorchSF',\n",
    "                    'EnclosedPorch','3SsnPorch','ScreenPorch','PoolArea','MiscVal','YrSoldOld']"
   ]
  },
  {
   "cell_type": "code",
   "execution_count": 15,
   "id": "089c3baf",
   "metadata": {},
   "outputs": [],
   "source": [
    "prices['MSSubClass'] = prices.MSSubClass.map({20:'1_STORY_1946_AND_NEWER',\n",
    "                                           30:'1_STORY_1946_AND_OLDER',\n",
    "                                          40:'1_STORY_FINISHED',\n",
    "                                          45:'1_HALF_STORY_UNFINISHED',\n",
    "                                          50:'1_HALF_STORY_FINISHED',\n",
    "                                          60:'2_STORY_1946_AND_NEWER',\n",
    "                                          70:'2_STORY_1946_AND_OLDER',\n",
    "                                          75:'2_HALF_STORY',\n",
    "                                          80:'SPLIT_OR_MULTI_LEVEL',\n",
    "                                          85:'SPLIT_FOYER',\n",
    "                                          90:'DUPLEX ',\n",
    "                                          120:'1_STORY_PUD',\n",
    "                                          150:'1_HALF_STORY_PUD',\n",
    "                                          160:'2_STORY_PUD_1946_AND_NEWER',\n",
    "                                          180:'PUD_MULTILEVEL',\n",
    "                                          190:'2_FAMILY_CONVERSION'})"
   ]
  },
  {
   "cell_type": "markdown",
   "id": "e366d564",
   "metadata": {},
   "source": [
    "Creating dummy variables"
   ]
  },
  {
   "cell_type": "code",
   "execution_count": 16,
   "id": "8fb2a895",
   "metadata": {},
   "outputs": [],
   "source": [
    "for item in categoricalFeatures:\n",
    "    dummy_col = pd.get_dummies(prices[[item]],\n",
    "                               drop_first=True)\n",
    "    prices = pd.concat([prices,dummy_col],axis='columns')\n",
    "    prices.drop(columns=[item], inplace=True)"
   ]
  },
  {
   "cell_type": "markdown",
   "id": "816ed87e",
   "metadata": {},
   "source": [
    "## Build the Linear Regression Model"
   ]
  },
  {
   "cell_type": "code",
   "execution_count": 17,
   "id": "b6dc71d1",
   "metadata": {},
   "outputs": [],
   "source": [
    "df_train,df_test = train_test_split(prices,train_size=0.7,test_size=0.3,random_state=100)"
   ]
  },
  {
   "cell_type": "markdown",
   "id": "3cc13a35",
   "metadata": {},
   "source": [
    "## Scaling the dataset"
   ]
  },
  {
   "cell_type": "code",
   "execution_count": 18,
   "id": "7ce3b096",
   "metadata": {},
   "outputs": [],
   "source": [
    "scaler = MinMaxScaler()\n",
    "df_train[continousFeatures] = scaler.fit_transform(df_train[continousFeatures])\n",
    "df_test[continousFeatures] = scaler.transform(df_test[continousFeatures])"
   ]
  },
  {
   "cell_type": "code",
   "execution_count": 19,
   "id": "4662f2d4",
   "metadata": {},
   "outputs": [],
   "source": [
    "# Read in the data\n",
    "y_train = df_train.pop('SalePrice')\n",
    "X_train = df_train\n",
    "y_test = df_test.pop('SalePrice')\n",
    "X_test = df_test"
   ]
  },
  {
   "cell_type": "markdown",
   "id": "5b79f925",
   "metadata": {},
   "source": [
    "# 4. Model Building and Evaluation"
   ]
  },
  {
   "cell_type": "markdown",
   "id": "437306c7",
   "metadata": {},
   "source": [
    "## Ridge Regression"
   ]
  },
  {
   "cell_type": "code",
   "execution_count": 20,
   "id": "f4ab67dd",
   "metadata": {},
   "outputs": [
    {
     "name": "stdout",
     "output_type": "stream",
     "text": [
      "Fitting 5 folds for each of 28 candidates, totalling 140 fits\n"
     ]
    },
    {
     "data": {
      "text/plain": [
       "GridSearchCV(cv=5, estimator=Ridge(),\n",
       "             param_grid={'alpha': [0.0001, 0.001, 0.01, 0.05, 0.1, 0.2, 0.3,\n",
       "                                   0.4, 0.5, 0.6, 0.7, 0.8, 0.9, 1.0, 2.0, 3.0,\n",
       "                                   4.0, 5.0, 6.0, 7.0, 8.0, 9.0, 10.0, 20, 50,\n",
       "                                   100, 500, 1000]},\n",
       "             return_train_score=True, scoring='r2', verbose=1)"
      ]
     },
     "execution_count": 20,
     "metadata": {},
     "output_type": "execute_result"
    }
   ],
   "source": [
    "# list of alphas to tune\n",
    "params = {'alpha': [0.0001, 0.001, 0.01, 0.05, 0.1, \n",
    " 0.2, 0.3, 0.4, 0.5, 0.6, 0.7, 0.8, 0.9, 1.0, 2.0, 3.0, \n",
    " 4.0, 5.0, 6.0, 7.0, 8.0, 9.0, 10.0, 20, 50, 100, 500, 1000 ]}\n",
    "\n",
    "\n",
    "ridge = Ridge()\n",
    "\n",
    "folds = 5\n",
    "model_cv = GridSearchCV(estimator=ridge,\n",
    "                       param_grid=params,\n",
    "                       scoring='r2',\n",
    "                       cv=folds,\n",
    "                       return_train_score=True,\n",
    "                       verbose=1)\n",
    "# Fitting the model with train set\n",
    "model_cv.fit(X_train, y_train)"
   ]
  },
  {
   "cell_type": "code",
   "execution_count": 21,
   "id": "ba4fe62a",
   "metadata": {},
   "outputs": [],
   "source": [
    "ridge_results = pd.DataFrame(model_cv.cv_results_)\n",
    "ridge_results['param_alpha'] = ridge_results['param_alpha'].astype('int32')"
   ]
  },
  {
   "cell_type": "code",
   "execution_count": 22,
   "id": "d225531b",
   "metadata": {},
   "outputs": [
    {
     "data": {
      "image/png": "[encoded data removed]",
      "text/plain": [
       "<Figure size 576x432 with 1 Axes>"
      ]
     },
     "metadata": {
      "needs_background": "light"
     },
     "output_type": "display_data"
    }
   ],
   "source": [
    "plt.figure(figsize=(8,6))\n",
    "plt.plot(ridge_results['param_alpha'], ridge_results['mean_train_score'])\n",
    "# Plotting mean of the Test score\n",
    "plt.plot(ridge_results['param_alpha'], ridge_results['mean_test_score'])\n",
    "plt.legend(['train score', 'test score'])\n",
    "plt.xlabel('alpha')\n",
    "plt.ylabel('mean r2 score')\n",
    "plt.show()"
   ]
  },
  {
   "cell_type": "code",
   "execution_count": 23,
   "id": "032ed00d",
   "metadata": {
    "scrolled": true
   },
   "outputs": [
    {
     "data": {
      "text/plain": [
       "array([ 14267.60792156,  22991.19863603,  12153.35619827,   6531.39622265,\n",
       "        16403.67025777,  19073.61606176,  35908.88561442,  49645.55489029,\n",
       "        -3922.36837214,  49120.76037492,  16586.44136036,   1622.22271098,\n",
       "        31892.74763066,  10460.93657968,   4284.54219959, -11693.13278802,\n",
       "        30361.60955899,  24231.54325988,  29078.62102039,  20466.09652246,\n",
       "        14285.41275101,   3675.60311074,    856.59444694,   8194.4753494 ,\n",
       "         6189.21042998,   3807.19153367,    243.95948629,  -3859.08981667,\n",
       "       -15542.74444172,   1438.21241562,   2992.26180536,   2835.3783871 ,\n",
       "         7488.09649492,  -3463.24496346,   3386.28579839,  -7064.98569243,\n",
       "        -7056.1820462 ,   4796.45769748,   -628.78502862,   7195.41434454,\n",
       "        -9777.42204431,  -4697.76998206,  -6551.24139846,  -1350.83919767,\n",
       "        -1583.47522951,   5803.41220887,   5631.17395056,   8825.42900814,\n",
       "         4209.19082589,   3521.0461116 ,   2355.07863856, -10750.50674887,\n",
       "         -209.88917791,  12570.89950118,   9701.21673133,  12918.17238766,\n",
       "        -3761.15885888,  11383.47673922, -11195.0100933 ,  -3754.25892894,\n",
       "        -2575.75278189,   4696.64584308,   3066.6968366 ,  -1139.47228249,\n",
       "          110.67013198,   -760.94328936,     74.71116548,  -8193.80935991,\n",
       "        19323.99840627, -21015.99241372, -11422.82403241,  -9572.24744994,\n",
       "       -11339.91085886, -16179.01336673, -11495.6878872 ,    906.7858659 ,\n",
       "        -2501.04587243,  45816.27001145,  26472.46728085,  -8857.88082859,\n",
       "         1369.71536352, -10945.0464614 ,  -2815.95220744,  13796.69683035,\n",
       "        23136.18543838,  -3901.21617407,   9240.52559892,  -7349.25236872,\n",
       "         8533.45918511,   6014.66037237,  -5928.31065582,  -7473.13466432,\n",
       "         5404.79086101,  -1973.83895075,  -2053.8146513 ,   3192.26647334,\n",
       "        10758.66664181,   9369.07085972, -24537.98483199,   -720.77029561,\n",
       "         1246.14215727,   2766.19973836,  -7056.1820462 ,  -4697.76998206,\n",
       "       -12733.57388287, -10339.7221816 ,   4573.85136307,   -228.4325758 ,\n",
       "        -1222.52160997,  -3952.88317133,  -6084.86655232,  -4792.38340451,\n",
       "        -7216.4163675 ,  -3015.44075928,  -2088.36376361,   2608.22854355,\n",
       "         3494.04406102,   2714.85481871,  -1696.43537355,   2244.37233649,\n",
       "        -1668.39451156,    793.54839278,  -5875.60801263,   6725.84146308,\n",
       "        34094.93377629,    907.38207994,  -2443.89431311,  16420.20146238,\n",
       "        -2032.03879756,   1092.88468256,  -4707.91675992,  -2459.65781089,\n",
       "        -2153.02572977,    144.75351563,   2591.27343413,  -2481.13150813,\n",
       "        -1704.09664456,    741.77263177,   2703.72328137,    907.38207994,\n",
       "        -2559.74223923,   3973.73203988,  -2032.03879756,   3370.81097126,\n",
       "         3143.72960767,  15398.96429669,   1196.79202564,      0.        ,\n",
       "        -3131.62217982,  -1127.40185365,  -5744.23548823,   3697.37251253,\n",
       "        -1964.30802015, -10687.69744145,   1847.69998405,   2942.80793042,\n",
       "         2883.94098438,   1131.75348278, -13370.02208034,  -7986.88823508,\n",
       "       -18768.11883887,  -3833.06850012,  -3365.46180761,      0.        ,\n",
       "        -3466.01630934,   1796.50252322,   1685.52647194,  -2900.99109334,\n",
       "         3109.63615975,   2355.08712376, -16718.08522403, -28778.81682934,\n",
       "        -6474.69586884, -26046.72849083,   5603.26415166,  -6474.69586884,\n",
       "        -3833.73215117,   7817.75517467,  21835.58358249,  -3031.73085717,\n",
       "        -9759.50156722,  -7648.13555874,    340.9906229 ,   9040.1084546 ,\n",
       "        -1706.33985322,  -6474.69586884,   -543.22474538,  -7035.11005325,\n",
       "        -5822.25304779,   1852.89070531,   -486.29568568,  -4942.94150746,\n",
       "        -3414.6732037 ,  -1104.85317907,  -4404.04172077,   8216.43522814,\n",
       "         1247.04401856,  -2303.5305474 ,  -1597.55217111,  -4027.21143832,\n",
       "        -4702.97437021,  -1261.22066694,  -3641.90545906,   8229.53685818,\n",
       "         2081.79439628,   2637.41198775,      0.        ,   1531.79298958,\n",
       "       -20355.86264952, -26982.82380685, -29148.91845493,  -4376.92127101,\n",
       "        -1255.069822  ,  -1657.61543885,   1317.56952889,  -2938.81065139,\n",
       "        10474.67866307,   4975.15490102,   1753.07839106,   3074.22781336,\n",
       "        -3554.38906247,    544.37148355,   1192.84853518,   1192.84853518,\n",
       "        -5302.97948928,  -6266.86937811, -10388.35508067,  10684.91161386,\n",
       "         1192.84853518,  -1243.99760222,  -2691.09441858,  -1847.10825052,\n",
       "        -5753.3045873 ,   1192.84853518,  -2454.3082834 ,   6416.18563361,\n",
       "         2485.04501689,   1185.09868503,   6111.06529352,   4659.1072436 ,\n",
       "         6287.88893134,   -334.4814563 ,   2253.3744452 ,   3661.84710204,\n",
       "        -1456.37462636,  -1151.45707668,   2615.70266059,   5806.21040647,\n",
       "        -4159.65807359,   2824.39317366,   3661.84710204])"
      ]
     },
     "execution_count": 23,
     "metadata": {},
     "output_type": "execute_result"
    }
   ],
   "source": [
    "best_alpha = model_cv.best_params_['alpha']\n",
    "ridge = Ridge(alpha=best_alpha)\n",
    "\n",
    "ridge.fit(X_train, y_train)\n",
    "ridge.coef_"
   ]
  },
  {
   "cell_type": "code",
   "execution_count": 24,
   "id": "be2cbc25",
   "metadata": {},
   "outputs": [
    {
     "data": {
      "text/plain": [
       "8.0"
      ]
     },
     "execution_count": 24,
     "metadata": {},
     "output_type": "execute_result"
    }
   ],
   "source": [
    "best_alpha"
   ]
  },
  {
   "cell_type": "code",
   "execution_count": 25,
   "id": "0aa8888e",
   "metadata": {},
   "outputs": [
    {
     "name": "stdout",
     "output_type": "stream",
     "text": [
      "R2 Score train 0.8799070313830523\n",
      "R2 Score test 0.8575110315716996\n"
     ]
    }
   ],
   "source": [
    "y_train_pred = ridge.predict(X_train)\n",
    "print(\"R2 Score train\", r2_score(y_true=y_train, y_pred=y_train_pred))\n",
    "\n",
    "y_test_pred = ridge.predict(X_test)\n",
    "print(\"R2 Score test\", r2_score(y_true=y_test, y_pred=y_test_pred))"
   ]
  },
  {
   "cell_type": "markdown",
   "id": "e1aa4ec4",
   "metadata": {},
   "source": [
    "### Analysis from Ridge Regression"
   ]
  },
  {
   "cell_type": "markdown",
   "id": "b8593559",
   "metadata": {},
   "source": [
    "The best alpha value is found to be 8.0 and R2 score made from model with alpha 10 is 87.99% in train set and 85.75% in test set which does not show any major variation "
   ]
  },
  {
   "cell_type": "markdown",
   "id": "e87b1543",
   "metadata": {},
   "source": [
    "Top 10 features of Ridge regression\n"
   ]
  },
  {
   "cell_type": "code",
   "execution_count": 26,
   "id": "ce5d2cf7",
   "metadata": {},
   "outputs": [
    {
     "data": {
      "text/html": [
       "<div>\n",
       "<style scoped>\n",
       "    .dataframe tbody tr th:only-of-type {\n",
       "        vertical-align: middle;\n",
       "    }\n",
       "\n",
       "    .dataframe tbody tr th {\n",
       "        vertical-align: top;\n",
       "    }\n",
       "\n",
       "    .dataframe thead th {\n",
       "        text-align: right;\n",
       "    }\n",
       "</style>\n",
       "<table border=\"1\" class=\"dataframe\">\n",
       "  <thead>\n",
       "    <tr style=\"text-align: right;\">\n",
       "      <th></th>\n",
       "      <th>Params</th>\n",
       "      <th>Coef</th>\n",
       "    </tr>\n",
       "  </thead>\n",
       "  <tbody>\n",
       "    <tr>\n",
       "      <th>0</th>\n",
       "      <td>constant</td>\n",
       "      <td>104699.377</td>\n",
       "    </tr>\n",
       "    <tr>\n",
       "      <th>8</th>\n",
       "      <td>2ndFlrSF</td>\n",
       "      <td>49645.555</td>\n",
       "    </tr>\n",
       "    <tr>\n",
       "      <th>10</th>\n",
       "      <td>GrLivArea</td>\n",
       "      <td>49120.760</td>\n",
       "    </tr>\n",
       "    <tr>\n",
       "      <th>78</th>\n",
       "      <td>Neighborhood_NoRidge</td>\n",
       "      <td>45816.270</td>\n",
       "    </tr>\n",
       "    <tr>\n",
       "      <th>7</th>\n",
       "      <td>1stFlrSF</td>\n",
       "      <td>35908.886</td>\n",
       "    </tr>\n",
       "    <tr>\n",
       "      <th>125</th>\n",
       "      <td>RoofMatl_WdShngl</td>\n",
       "      <td>34094.934</td>\n",
       "    </tr>\n",
       "    <tr>\n",
       "      <th>13</th>\n",
       "      <td>FullBath</td>\n",
       "      <td>31892.748</td>\n",
       "    </tr>\n",
       "    <tr>\n",
       "      <th>17</th>\n",
       "      <td>TotRmsAbvGrd</td>\n",
       "      <td>30361.610</td>\n",
       "    </tr>\n",
       "    <tr>\n",
       "      <th>19</th>\n",
       "      <td>GarageCars</td>\n",
       "      <td>29078.621</td>\n",
       "    </tr>\n",
       "    <tr>\n",
       "      <th>79</th>\n",
       "      <td>Neighborhood_NridgHt</td>\n",
       "      <td>26472.467</td>\n",
       "    </tr>\n",
       "    <tr>\n",
       "      <th>18</th>\n",
       "      <td>Fireplaces</td>\n",
       "      <td>24231.543</td>\n",
       "    </tr>\n",
       "  </tbody>\n",
       "</table>\n",
       "</div>"
      ],
      "text/plain": [
       "                   Params        Coef\n",
       "0                constant  104699.377\n",
       "8                2ndFlrSF   49645.555\n",
       "10              GrLivArea   49120.760\n",
       "78   Neighborhood_NoRidge   45816.270\n",
       "7                1stFlrSF   35908.886\n",
       "125      RoofMatl_WdShngl   34094.934\n",
       "13               FullBath   31892.748\n",
       "17           TotRmsAbvGrd   30361.610\n",
       "19             GarageCars   29078.621\n",
       "79   Neighborhood_NridgHt   26472.467\n",
       "18             Fireplaces   24231.543"
      ]
     },
     "execution_count": 26,
     "metadata": {},
     "output_type": "execute_result"
    }
   ],
   "source": [
    "# Coefficients list\n",
    "model_ridge_parameters = list(ridge.coef_)\n",
    "# Inserting Y Intercept to model parameters list\n",
    "model_ridge_parameters.insert(0, ridge.intercept_)\n",
    "# Rounding off the coefficients\n",
    "model_ridge_parameters = [round(i,3) for i in model_ridge_parameters]\n",
    "cols = X_train.columns\n",
    "cols = cols.insert(0,'constant')\n",
    "ridge_params_df = pd.DataFrame({'Params':cols, 'Coef':model_ridge_parameters})\n",
    "(ridge_params_df.sort_values('Coef', ascending=False)).head(11)"
   ]
  },
  {
   "cell_type": "markdown",
   "id": "d67cb992",
   "metadata": {},
   "source": [
    "## Lasso Regression"
   ]
  },
  {
   "cell_type": "code",
   "execution_count": 27,
   "id": "f6dd380e",
   "metadata": {},
   "outputs": [
    {
     "name": "stdout",
     "output_type": "stream",
     "text": [
      "Fitting 5 folds for each of 28 candidates, totalling 140 fits\n"
     ]
    },
    {
     "data": {
      "text/plain": [
       "GridSearchCV(cv=5, estimator=Lasso(),\n",
       "             param_grid={'alpha': [0.0001, 0.001, 0.01, 0.05, 0.1, 0.2, 0.3,\n",
       "                                   0.4, 0.5, 0.6, 0.7, 0.8, 0.9, 1.0, 2.0, 3.0,\n",
       "                                   4.0, 5.0, 6.0, 7.0, 8.0, 9.0, 10.0, 20, 50,\n",
       "                                   100, 500, 1000]},\n",
       "             return_train_score=True, scoring='r2', verbose=1)"
      ]
     },
     "execution_count": 27,
     "metadata": {},
     "output_type": "execute_result"
    }
   ],
   "source": [
    "# list of alphas to tune\n",
    "params = {'alpha': [0.0001, 0.001, 0.01, 0.05, 0.1, \n",
    " 0.2, 0.3, 0.4, 0.5, 0.6, 0.7, 0.8, 0.9, 1.0, 2.0, 3.0, \n",
    " 4.0, 5.0, 6.0, 7.0, 8.0, 9.0, 10.0, 20, 50, 100, 500, 1000 ]}\n",
    "\n",
    "\n",
    "lasso = Lasso()\n",
    "\n",
    "folds = 5\n",
    "model_cv = GridSearchCV(estimator=lasso,\n",
    "                       param_grid=params,\n",
    "                       scoring='r2',\n",
    "                       cv=folds,\n",
    "                       return_train_score=True,\n",
    "                       verbose=1)\n",
    "# Fitting the model with train set\n",
    "model_cv.fit(X_train, y_train)"
   ]
  },
  {
   "cell_type": "code",
   "execution_count": 28,
   "id": "88c19bba",
   "metadata": {},
   "outputs": [],
   "source": [
    "lasso_results = pd.DataFrame(model_cv.cv_results_)\n",
    "lasso_results['param_alpha'] = lasso_results['param_alpha'].astype('int32')"
   ]
  },
  {
   "cell_type": "code",
   "execution_count": 29,
   "id": "5f92d46f",
   "metadata": {},
   "outputs": [
    {
     "data": {
      "image/png": "[encoded data removed]",
      "text/plain": [
       "<Figure size 576x432 with 1 Axes>"
      ]
     },
     "metadata": {
      "needs_background": "light"
     },
     "output_type": "display_data"
    }
   ],
   "source": [
    "plt.figure(figsize=(8,6))\n",
    "plt.plot(lasso_results['param_alpha'], lasso_results['mean_train_score'])\n",
    "# Plotting mean of the Test score\n",
    "plt.plot(lasso_results['param_alpha'], lasso_results['mean_test_score'])\n",
    "plt.legend(['train score', 'test score'])\n",
    "plt.xlabel('alpha')\n",
    "plt.ylabel('mean r2 score')\n",
    "plt.show()"
   ]
  },
  {
   "cell_type": "code",
   "execution_count": 30,
   "id": "62e82e21",
   "metadata": {},
   "outputs": [
    {
     "data": {
      "text/plain": [
       "array([ 7.73006593e+03,  1.68960275e+04,  0.00000000e+00,  0.00000000e+00,\n",
       "        2.13021319e+03,  0.00000000e+00,  0.00000000e+00,  2.84996878e+04,\n",
       "       -1.37060434e+04,  2.66025352e+05,  1.66859533e+04,  0.00000000e+00,\n",
       "        1.94529727e+04,  9.83182108e+02, -0.00000000e+00, -3.51159456e+04,\n",
       "        0.00000000e+00,  1.59083325e+04,  4.00152069e+04,  0.00000000e+00,\n",
       "        7.89429212e+03,  0.00000000e+00, -0.00000000e+00,  0.00000000e+00,\n",
       "        3.93746280e+03, -0.00000000e+00,  0.00000000e+00, -9.14299402e+02,\n",
       "       -1.49614214e+04, -0.00000000e+00,  7.15794487e+02,  0.00000000e+00,\n",
       "        1.08300296e+04, -0.00000000e+00,  0.00000000e+00, -0.00000000e+00,\n",
       "       -5.04248646e+03, -0.00000000e+00, -0.00000000e+00,  0.00000000e+00,\n",
       "       -3.62635870e+03, -0.00000000e+00, -0.00000000e+00,  0.00000000e+00,\n",
       "       -0.00000000e+00,  0.00000000e+00,  0.00000000e+00,  4.92483949e+03,\n",
       "        0.00000000e+00,  0.00000000e+00,  0.00000000e+00, -1.37060836e+04,\n",
       "        0.00000000e+00,  1.24455441e+04,  1.16696810e+04,  1.20010666e+04,\n",
       "       -0.00000000e+00,  1.22527306e+04, -5.38665767e+03, -0.00000000e+00,\n",
       "       -0.00000000e+00,  0.00000000e+00,  1.12155974e+03, -0.00000000e+00,\n",
       "        0.00000000e+00,  0.00000000e+00,  0.00000000e+00, -0.00000000e+00,\n",
       "        2.25670190e+04, -1.87336931e+04, -1.98389205e+03, -6.19308923e+03,\n",
       "       -4.47696804e+03, -1.11690349e+04, -9.27128519e+03,  0.00000000e+00,\n",
       "        0.00000000e+00,  5.02437188e+04,  3.38086568e+04, -8.08812916e+03,\n",
       "        0.00000000e+00, -8.10128550e+03,  0.00000000e+00,  2.32614017e+04,\n",
       "        3.02702543e+04,  0.00000000e+00,  6.50115161e+03, -8.36662580e+03,\n",
       "        7.90664055e+03,  0.00000000e+00, -0.00000000e+00, -2.22037194e+03,\n",
       "        1.69777400e+02, -0.00000000e+00, -0.00000000e+00,  0.00000000e+00,\n",
       "        0.00000000e+00,  0.00000000e+00, -1.82766588e+05, -0.00000000e+00,\n",
       "        0.00000000e+00,  0.00000000e+00, -9.84387044e+02, -0.00000000e+00,\n",
       "       -1.43192910e+04, -1.02595551e+04,  8.37708313e+03,  3.23851522e+03,\n",
       "       -0.00000000e+00, -0.00000000e+00, -7.40029540e+03,  0.00000000e+00,\n",
       "       -9.61257404e+02, -3.58794068e+03, -0.00000000e+00,  0.00000000e+00,\n",
       "        0.00000000e+00,  0.00000000e+00,  1.15868012e+04,  0.00000000e+00,\n",
       "        0.00000000e+00,  0.00000000e+00, -0.00000000e+00,  0.00000000e+00,\n",
       "        8.11849225e+04,  0.00000000e+00, -0.00000000e+00,  2.00308446e+04,\n",
       "       -0.00000000e+00,  0.00000000e+00, -0.00000000e+00, -0.00000000e+00,\n",
       "       -0.00000000e+00, -0.00000000e+00,  0.00000000e+00, -0.00000000e+00,\n",
       "        0.00000000e+00,  0.00000000e+00,  0.00000000e+00,  0.00000000e+00,\n",
       "       -0.00000000e+00,  0.00000000e+00, -0.00000000e+00,  3.50764425e+03,\n",
       "        3.84544005e+01,  9.79556309e+03, -0.00000000e+00,  0.00000000e+00,\n",
       "       -7.73024755e+02, -0.00000000e+00, -7.55101319e+03,  3.75616651e+03,\n",
       "       -0.00000000e+00, -7.31079240e+03, -0.00000000e+00,  0.00000000e+00,\n",
       "        1.44057913e+03,  0.00000000e+00, -1.37362082e+04, -5.83162677e+03,\n",
       "       -1.45196491e+04, -0.00000000e+00, -0.00000000e+00,  0.00000000e+00,\n",
       "       -0.00000000e+00,  3.00046944e+02,  0.00000000e+00, -0.00000000e+00,\n",
       "        0.00000000e+00,  0.00000000e+00, -1.86519277e+04, -2.80548896e+04,\n",
       "       -1.19026603e+04, -2.51624431e+04,  7.99688643e+03, -6.02550346e+03,\n",
       "       -0.00000000e+00,  1.12697038e+04,  2.37306028e+04, -1.22786803e+03,\n",
       "       -7.80751791e+03, -1.38543715e+04,  4.41345042e+02,  6.02074940e+03,\n",
       "       -0.00000000e+00, -1.21525589e+01, -0.00000000e+00, -5.30050693e+03,\n",
       "       -3.57560940e+03,  0.00000000e+00, -0.00000000e+00, -0.00000000e+00,\n",
       "       -8.59732455e+02,  1.96341214e+02, -0.00000000e+00,  4.77871083e+03,\n",
       "        0.00000000e+00, -0.00000000e+00, -0.00000000e+00, -0.00000000e+00,\n",
       "       -2.75884216e+03, -0.00000000e+00, -1.87673908e+03,  6.43355278e+03,\n",
       "        0.00000000e+00,  0.00000000e+00,  0.00000000e+00,  0.00000000e+00,\n",
       "       -2.80423146e+04, -3.20262038e+04, -3.44748056e+04, -0.00000000e+00,\n",
       "        0.00000000e+00, -0.00000000e+00,  0.00000000e+00, -0.00000000e+00,\n",
       "        1.42724941e+04,  2.99843962e+03, -0.00000000e+00, -0.00000000e+00,\n",
       "       -0.00000000e+00,  0.00000000e+00,  0.00000000e+00,  0.00000000e+00,\n",
       "       -4.38082620e+03, -5.18719156e+03, -8.40169437e+03,  5.37382043e+03,\n",
       "        0.00000000e+00, -0.00000000e+00, -0.00000000e+00, -0.00000000e+00,\n",
       "       -0.00000000e+00,  0.00000000e+00, -0.00000000e+00,  8.84438806e+02,\n",
       "        0.00000000e+00, -0.00000000e+00,  0.00000000e+00,  0.00000000e+00,\n",
       "        0.00000000e+00,  0.00000000e+00,  0.00000000e+00,  7.53065695e+03,\n",
       "       -0.00000000e+00, -0.00000000e+00,  0.00000000e+00,  0.00000000e+00,\n",
       "       -0.00000000e+00,  2.35695235e+03,  1.75569149e+03])"
      ]
     },
     "execution_count": 30,
     "metadata": {},
     "output_type": "execute_result"
    }
   ],
   "source": [
    "best_alpha = model_cv.best_params_['alpha']\n",
    "lasso = Lasso(alpha=best_alpha)\n",
    "\n",
    "lasso.fit(X_train, y_train)\n",
    "lasso.coef_"
   ]
  },
  {
   "cell_type": "code",
   "execution_count": 31,
   "id": "2a8ecd5c",
   "metadata": {},
   "outputs": [
    {
     "data": {
      "text/plain": [
       "100"
      ]
     },
     "execution_count": 31,
     "metadata": {},
     "output_type": "execute_result"
    }
   ],
   "source": [
    "best_alpha"
   ]
  },
  {
   "cell_type": "code",
   "execution_count": 32,
   "id": "d0e0a8ec",
   "metadata": {},
   "outputs": [
    {
     "name": "stdout",
     "output_type": "stream",
     "text": [
      "R2 Score train 0.8939020732895162\n",
      "R2 Score test 0.8529451571634485\n"
     ]
    }
   ],
   "source": [
    "y_train_pred = lasso.predict(X_train)\n",
    "print(\"R2 Score train\", r2_score(y_true=y_train, y_pred=y_train_pred))\n",
    "\n",
    "y_test_pred = lasso.predict(X_test)\n",
    "print(\"R2 Score test\", r2_score(y_true=y_test, y_pred=y_test_pred))"
   ]
  },
  {
   "cell_type": "markdown",
   "id": "f008b627",
   "metadata": {},
   "source": [
    "### Analysis from Lasso Regression"
   ]
  },
  {
   "cell_type": "markdown",
   "id": "3dbce1db",
   "metadata": {},
   "source": [
    "The best alpha value is found to be 100.0 and R2 score made from model with alpha 100 is 89.39% in train set and 85.29% in test set which does not show any major variation "
   ]
  },
  {
   "cell_type": "markdown",
   "id": "0f169fdb",
   "metadata": {},
   "source": [
    "Top 10 features of Lasso regression\n"
   ]
  },
  {
   "cell_type": "code",
   "execution_count": 33,
   "id": "e39c0ee6",
   "metadata": {},
   "outputs": [
    {
     "data": {
      "text/html": [
       "<div>\n",
       "<style scoped>\n",
       "    .dataframe tbody tr th:only-of-type {\n",
       "        vertical-align: middle;\n",
       "    }\n",
       "\n",
       "    .dataframe tbody tr th {\n",
       "        vertical-align: top;\n",
       "    }\n",
       "\n",
       "    .dataframe thead th {\n",
       "        text-align: right;\n",
       "    }\n",
       "</style>\n",
       "<table border=\"1\" class=\"dataframe\">\n",
       "  <thead>\n",
       "    <tr style=\"text-align: right;\">\n",
       "      <th></th>\n",
       "      <th>Params</th>\n",
       "      <th>Coef</th>\n",
       "    </tr>\n",
       "  </thead>\n",
       "  <tbody>\n",
       "    <tr>\n",
       "      <th>0</th>\n",
       "      <td>constant</td>\n",
       "      <td>104699.377</td>\n",
       "    </tr>\n",
       "    <tr>\n",
       "      <th>8</th>\n",
       "      <td>2ndFlrSF</td>\n",
       "      <td>49645.555</td>\n",
       "    </tr>\n",
       "    <tr>\n",
       "      <th>10</th>\n",
       "      <td>GrLivArea</td>\n",
       "      <td>49120.760</td>\n",
       "    </tr>\n",
       "    <tr>\n",
       "      <th>78</th>\n",
       "      <td>Neighborhood_NoRidge</td>\n",
       "      <td>45816.270</td>\n",
       "    </tr>\n",
       "    <tr>\n",
       "      <th>7</th>\n",
       "      <td>1stFlrSF</td>\n",
       "      <td>35908.886</td>\n",
       "    </tr>\n",
       "    <tr>\n",
       "      <th>125</th>\n",
       "      <td>RoofMatl_WdShngl</td>\n",
       "      <td>34094.934</td>\n",
       "    </tr>\n",
       "    <tr>\n",
       "      <th>13</th>\n",
       "      <td>FullBath</td>\n",
       "      <td>31892.748</td>\n",
       "    </tr>\n",
       "    <tr>\n",
       "      <th>17</th>\n",
       "      <td>TotRmsAbvGrd</td>\n",
       "      <td>30361.610</td>\n",
       "    </tr>\n",
       "    <tr>\n",
       "      <th>19</th>\n",
       "      <td>GarageCars</td>\n",
       "      <td>29078.621</td>\n",
       "    </tr>\n",
       "    <tr>\n",
       "      <th>79</th>\n",
       "      <td>Neighborhood_NridgHt</td>\n",
       "      <td>26472.467</td>\n",
       "    </tr>\n",
       "    <tr>\n",
       "      <th>18</th>\n",
       "      <td>Fireplaces</td>\n",
       "      <td>24231.543</td>\n",
       "    </tr>\n",
       "  </tbody>\n",
       "</table>\n",
       "</div>"
      ],
      "text/plain": [
       "                   Params        Coef\n",
       "0                constant  104699.377\n",
       "8                2ndFlrSF   49645.555\n",
       "10              GrLivArea   49120.760\n",
       "78   Neighborhood_NoRidge   45816.270\n",
       "7                1stFlrSF   35908.886\n",
       "125      RoofMatl_WdShngl   34094.934\n",
       "13               FullBath   31892.748\n",
       "17           TotRmsAbvGrd   30361.610\n",
       "19             GarageCars   29078.621\n",
       "79   Neighborhood_NridgHt   26472.467\n",
       "18             Fireplaces   24231.543"
      ]
     },
     "execution_count": 33,
     "metadata": {},
     "output_type": "execute_result"
    }
   ],
   "source": [
    "# Coefficients list\n",
    "model_lasso_parameters = list(lasso.coef_)\n",
    "# Inserting Y Intercept to model parameters list\n",
    "model_lasso_parameters.insert(0, lasso.intercept_)\n",
    "# Rounding off the coefficients\n",
    "model_lasso_parameters = [round(i,3) for i in model_ridge_parameters]\n",
    "cols = X_train.columns\n",
    "cols = cols.insert(0,'constant')\n",
    "lasso_params_df = pd.DataFrame({'Params':cols, 'Coef':model_lasso_parameters})\n",
    "(lasso_params_df.sort_values('Coef', ascending=False)).head(11)"
   ]
  }
 ],
 "metadata": {
  "kernelspec": {
   "display_name": "Python 3 (ipykernel)",
   "language": "python",
   "name": "python3"
  },
  "language_info": {
   "codemirror_mode": {
    "name": "ipython",
    "version": 3
   },
   "file_extension": ".py",
   "mimetype": "text/x-python",
   "name": "python",
   "nbconvert_exporter": "python",
   "pygments_lexer": "ipython3",
   "version": "3.9.7"
  }
 },
 "nbformat": 4,
 "nbformat_minor": 5
}
