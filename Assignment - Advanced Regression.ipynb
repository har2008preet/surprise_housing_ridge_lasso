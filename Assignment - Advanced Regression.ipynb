{
 "cells": [
  {
   "cell_type": "markdown",
   "id": "0769e9ed",
   "metadata": {
    "pycharm": {
     "name": "#%% md\n"
    }
   },
   "source": [
    "### 1. Data Understanding and Exploration\n",
    "\n",
    "Let's first have a look at the dataset and understand the size, attribute names etc."
   ]
  },
  {
   "cell_type": "code",
   "execution_count": 1,
   "id": "dd9ffe73",
   "metadata": {
    "pycharm": {
     "name": "#%%\n"
    }
   },
   "outputs": [],
   "source": [
    "import sys\n",
    "import os\n",
    "import warnings\n",
    "import pandas as pd\n",
    "import numpy as np\n",
    "import matplotlib.pyplot as plt\n",
    "import seaborn as sns\n",
    "from sklearn.preprocessing import StandardScaler,MinMaxScaler\n",
    "from sklearn.model_selection import train_test_split,GridSearchCV,KFold,cross_val_score\n",
    "from sklearn.linear_model import LinearRegression,Ridge,Lasso\n",
    "from sklearn.feature_selection import RFE\n",
    "from sklearn.metrics import r2_score\n",
    "\n",
    "warnings.filterwarnings('ignore')\n",
    "%matplotlib inline"
   ]
  },
  {
   "cell_type": "code",
   "execution_count": 2,
   "id": "947f5dc5",
   "metadata": {
    "pycharm": {
     "name": "#%%\n"
    }
   },
   "outputs": [],
   "source": [
    "prices = pd.read_csv('train.csv')"
   ]
  },
  {
   "cell_type": "code",
   "execution_count": 3,
   "id": "aefde942",
   "metadata": {
    "pycharm": {
     "name": "#%%\n"
    }
   },
   "outputs": [
    {
     "name": "stdout",
     "output_type": "stream",
     "text": [
      "<class 'pandas.core.frame.DataFrame'>\n",
      "RangeIndex: 1460 entries, 0 to 1459\n",
      "Data columns (total 81 columns):\n",
      " #   Column         Non-Null Count  Dtype  \n",
      "---  ------         --------------  -----  \n",
      " 0   Id             1460 non-null   int64  \n",
      " 1   MSSubClass     1460 non-null   int64  \n",
      " 2   MSZoning       1460 non-null   object \n",
      " 3   LotFrontage    1201 non-null   float64\n",
      " 4   LotArea        1460 non-null   int64  \n",
      " 5   Street         1460 non-null   object \n",
      " 6   Alley          91 non-null     object \n",
      " 7   LotShape       1460 non-null   object \n",
      " 8   LandContour    1460 non-null   object \n",
      " 9   Utilities      1460 non-null   object \n",
      " 10  LotConfig      1460 non-null   object \n",
      " 11  LandSlope      1460 non-null   object \n",
      " 12  Neighborhood   1460 non-null   object \n",
      " 13  Condition1     1460 non-null   object \n",
      " 14  Condition2     1460 non-null   object \n",
      " 15  BldgType       1460 non-null   object \n",
      " 16  HouseStyle     1460 non-null   object \n",
      " 17  OverallQual    1460 non-null   int64  \n",
      " 18  OverallCond    1460 non-null   int64  \n",
      " 19  YearBuilt      1460 non-null   int64  \n",
      " 20  YearRemodAdd   1460 non-null   int64  \n",
      " 21  RoofStyle      1460 non-null   object \n",
      " 22  RoofMatl       1460 non-null   object \n",
      " 23  Exterior1st    1460 non-null   object \n",
      " 24  Exterior2nd    1460 non-null   object \n",
      " 25  MasVnrType     1452 non-null   object \n",
      " 26  MasVnrArea     1452 non-null   float64\n",
      " 27  ExterQual      1460 non-null   object \n",
      " 28  ExterCond      1460 non-null   object \n",
      " 29  Foundation     1460 non-null   object \n",
      " 30  BsmtQual       1423 non-null   object \n",
      " 31  BsmtCond       1423 non-null   object \n",
      " 32  BsmtExposure   1422 non-null   object \n",
      " 33  BsmtFinType1   1423 non-null   object \n",
      " 34  BsmtFinSF1     1460 non-null   int64  \n",
      " 35  BsmtFinType2   1422 non-null   object \n",
      " 36  BsmtFinSF2     1460 non-null   int64  \n",
      " 37  BsmtUnfSF      1460 non-null   int64  \n",
      " 38  TotalBsmtSF    1460 non-null   int64  \n",
      " 39  Heating        1460 non-null   object \n",
      " 40  HeatingQC      1460 non-null   object \n",
      " 41  CentralAir     1460 non-null   object \n",
      " 42  Electrical     1459 non-null   object \n",
      " 43  1stFlrSF       1460 non-null   int64  \n",
      " 44  2ndFlrSF       1460 non-null   int64  \n",
      " 45  LowQualFinSF   1460 non-null   int64  \n",
      " 46  GrLivArea      1460 non-null   int64  \n",
      " 47  BsmtFullBath   1460 non-null   int64  \n",
      " 48  BsmtHalfBath   1460 non-null   int64  \n",
      " 49  FullBath       1460 non-null   int64  \n",
      " 50  HalfBath       1460 non-null   int64  \n",
      " 51  BedroomAbvGr   1460 non-null   int64  \n",
      " 52  KitchenAbvGr   1460 non-null   int64  \n",
      " 53  KitchenQual    1460 non-null   object \n",
      " 54  TotRmsAbvGrd   1460 non-null   int64  \n",
      " 55  Functional     1460 non-null   object \n",
      " 56  Fireplaces     1460 non-null   int64  \n",
      " 57  FireplaceQu    770 non-null    object \n",
      " 58  GarageType     1379 non-null   object \n",
      " 59  GarageYrBlt    1379 non-null   float64\n",
      " 60  GarageFinish   1379 non-null   object \n",
      " 61  GarageCars     1460 non-null   int64  \n",
      " 62  GarageArea     1460 non-null   int64  \n",
      " 63  GarageQual     1379 non-null   object \n",
      " 64  GarageCond     1379 non-null   object \n",
      " 65  PavedDrive     1460 non-null   object \n",
      " 66  WoodDeckSF     1460 non-null   int64  \n",
      " 67  OpenPorchSF    1460 non-null   int64  \n",
      " 68  EnclosedPorch  1460 non-null   int64  \n",
      " 69  3SsnPorch      1460 non-null   int64  \n",
      " 70  ScreenPorch    1460 non-null   int64  \n",
      " 71  PoolArea       1460 non-null   int64  \n",
      " 72  PoolQC         7 non-null      object \n",
      " 73  Fence          281 non-null    object \n",
      " 74  MiscFeature    54 non-null     object \n",
      " 75  MiscVal        1460 non-null   int64  \n",
      " 76  MoSold         1460 non-null   int64  \n",
      " 77  YrSold         1460 non-null   int64  \n",
      " 78  SaleType       1460 non-null   object \n",
      " 79  SaleCondition  1460 non-null   object \n",
      " 80  SalePrice      1460 non-null   int64  \n",
      "dtypes: float64(3), int64(35), object(43)\n",
      "memory usage: 924.0+ KB\n"
     ]
    }
   ],
   "source": [
    "prices.info()"
   ]
  },
  {
   "cell_type": "markdown",
   "id": "c6ba563d",
   "metadata": {
    "pycharm": {
     "name": "#%% md\n"
    }
   },
   "source": [
    "There seems to be some columns with null values. So checking null percentage"
   ]
  },
  {
   "cell_type": "code",
   "execution_count": 4,
   "id": "a0ecfb24",
   "metadata": {
    "pycharm": {
     "name": "#%%\n"
    }
   },
   "outputs": [
    {
     "name": "stdout",
     "output_type": "stream",
     "text": [
      "|               |    0 |\n",
      "|:--------------|-----:|\n",
      "| PoolQC        | 1    |\n",
      "| MiscFeature   | 0.96 |\n",
      "| Alley         | 0.94 |\n",
      "| Fence         | 0.81 |\n",
      "| FireplaceQu   | 0.47 |\n",
      "| LotFrontage   | 0.18 |\n",
      "| GarageYrBlt   | 0.06 |\n",
      "| GarageFinish  | 0.06 |\n",
      "| GarageType    | 0.06 |\n",
      "| GarageQual    | 0.06 |\n",
      "| GarageCond    | 0.06 |\n",
      "| BsmtExposure  | 0.03 |\n",
      "| BsmtQual      | 0.03 |\n",
      "| BsmtCond      | 0.03 |\n",
      "| BsmtFinType2  | 0.03 |\n",
      "| BsmtFinType1  | 0.03 |\n",
      "| MasVnrType    | 0.01 |\n",
      "| MasVnrArea    | 0.01 |\n",
      "| Id            | 0    |\n",
      "| Functional    | 0    |\n",
      "| Fireplaces    | 0    |\n",
      "| KitchenQual   | 0    |\n",
      "| KitchenAbvGr  | 0    |\n",
      "| BedroomAbvGr  | 0    |\n",
      "| HalfBath      | 0    |\n",
      "| FullBath      | 0    |\n",
      "| BsmtHalfBath  | 0    |\n",
      "| BsmtFullBath  | 0    |\n",
      "| TotRmsAbvGrd  | 0    |\n",
      "| GarageCars    | 0    |\n",
      "| LowQualFinSF  | 0    |\n",
      "| GarageArea    | 0    |\n",
      "| PavedDrive    | 0    |\n",
      "| WoodDeckSF    | 0    |\n",
      "| OpenPorchSF   | 0    |\n",
      "| EnclosedPorch | 0    |\n",
      "| 3SsnPorch     | 0    |\n",
      "| ScreenPorch   | 0    |\n",
      "| PoolArea      | 0    |\n",
      "| MiscVal       | 0    |\n",
      "| MoSold        | 0    |\n",
      "| YrSold        | 0    |\n",
      "| SaleType      | 0    |\n",
      "| SaleCondition | 0    |\n",
      "| GrLivArea     | 0    |\n",
      "| HeatingQC     | 0    |\n",
      "| 2ndFlrSF      | 0    |\n",
      "| LandSlope     | 0    |\n",
      "| OverallQual   | 0    |\n",
      "| HouseStyle    | 0    |\n",
      "| BldgType      | 0    |\n",
      "| Condition2    | 0    |\n",
      "| Condition1    | 0    |\n",
      "| Neighborhood  | 0    |\n",
      "| LotConfig     | 0    |\n",
      "| YearBuilt     | 0    |\n",
      "| Utilities     | 0    |\n",
      "| LandContour   | 0    |\n",
      "| LotShape      | 0    |\n",
      "| Street        | 0    |\n",
      "| LotArea       | 0    |\n",
      "| MSZoning      | 0    |\n",
      "| OverallCond   | 0    |\n",
      "| YearRemodAdd  | 0    |\n",
      "| 1stFlrSF      | 0    |\n",
      "| BsmtFinSF2    | 0    |\n",
      "| Electrical    | 0    |\n",
      "| CentralAir    | 0    |\n",
      "| MSSubClass    | 0    |\n",
      "| Heating       | 0    |\n",
      "| TotalBsmtSF   | 0    |\n",
      "| BsmtUnfSF     | 0    |\n",
      "| BsmtFinSF1    | 0    |\n",
      "| RoofStyle     | 0    |\n",
      "| Foundation    | 0    |\n",
      "| ExterCond     | 0    |\n",
      "| ExterQual     | 0    |\n",
      "| Exterior2nd   | 0    |\n",
      "| Exterior1st   | 0    |\n",
      "| RoofMatl      | 0    |\n",
      "| SalePrice     | 0    |\n"
     ]
    }
   ],
   "source": [
    "print(round(prices.isnull().sum()/len(prices.index),2).sort_values(ascending=False).to_markdown())"
   ]
  },
  {
   "cell_type": "markdown",
   "id": "16231321",
   "metadata": {
    "pycharm": {
     "name": "#%% md\n"
    }
   },
   "source": [
    "Removing values with 10% or more null values"
   ]
  },
  {
   "cell_type": "code",
   "execution_count": 5,
   "id": "35002b69",
   "metadata": {
    "pycharm": {
     "name": "#%%\n"
    }
   },
   "outputs": [],
   "source": [
    "limitPer = len(prices) * .90\n",
    "prices = prices.dropna(thresh=limitPer, axis=1)"
   ]
  },
  {
   "cell_type": "code",
   "execution_count": 6,
   "id": "c4ba42a1",
   "metadata": {
    "pycharm": {
     "name": "#%%\n"
    }
   },
   "outputs": [
    {
     "name": "stdout",
     "output_type": "stream",
     "text": [
      "|               |    0 |\n",
      "|:--------------|-----:|\n",
      "| GarageType    | 0.06 |\n",
      "| GarageYrBlt   | 0.06 |\n",
      "| GarageFinish  | 0.06 |\n",
      "| GarageQual    | 0.06 |\n",
      "| GarageCond    | 0.06 |\n",
      "| BsmtFinType1  | 0.03 |\n",
      "| BsmtQual      | 0.03 |\n",
      "| BsmtCond      | 0.03 |\n",
      "| BsmtExposure  | 0.03 |\n",
      "| BsmtFinType2  | 0.03 |\n",
      "| MasVnrType    | 0.01 |\n",
      "| MasVnrArea    | 0.01 |\n",
      "| BedroomAbvGr  | 0    |\n",
      "| HalfBath      | 0    |\n",
      "| FullBath      | 0    |\n",
      "| BsmtHalfBath  | 0    |\n",
      "| BsmtFullBath  | 0    |\n",
      "| KitchenAbvGr  | 0    |\n",
      "| KitchenQual   | 0    |\n",
      "| GrLivArea     | 0    |\n",
      "| LowQualFinSF  | 0    |\n",
      "| TotRmsAbvGrd  | 0    |\n",
      "| Id            | 0    |\n",
      "| Functional    | 0    |\n",
      "| Fireplaces    | 0    |\n",
      "| SaleCondition | 0    |\n",
      "| SaleType      | 0    |\n",
      "| YrSold        | 0    |\n",
      "| MoSold        | 0    |\n",
      "| MiscVal       | 0    |\n",
      "| PoolArea      | 0    |\n",
      "| ScreenPorch   | 0    |\n",
      "| 3SsnPorch     | 0    |\n",
      "| EnclosedPorch | 0    |\n",
      "| OpenPorchSF   | 0    |\n",
      "| WoodDeckSF    | 0    |\n",
      "| PavedDrive    | 0    |\n",
      "| GarageArea    | 0    |\n",
      "| GarageCars    | 0    |\n",
      "| 1stFlrSF      | 0    |\n",
      "| 2ndFlrSF      | 0    |\n",
      "| Heating       | 0    |\n",
      "| Electrical    | 0    |\n",
      "| OverallCond   | 0    |\n",
      "| MSZoning      | 0    |\n",
      "| LotArea       | 0    |\n",
      "| Street        | 0    |\n",
      "| LotShape      | 0    |\n",
      "| LandContour   | 0    |\n",
      "| Utilities     | 0    |\n",
      "| LotConfig     | 0    |\n",
      "| LandSlope     | 0    |\n",
      "| Neighborhood  | 0    |\n",
      "| Condition1    | 0    |\n",
      "| Condition2    | 0    |\n",
      "| BldgType      | 0    |\n",
      "| HouseStyle    | 0    |\n",
      "| OverallQual   | 0    |\n",
      "| YearBuilt     | 0    |\n",
      "| CentralAir    | 0    |\n",
      "| YearRemodAdd  | 0    |\n",
      "| RoofStyle     | 0    |\n",
      "| RoofMatl      | 0    |\n",
      "| Exterior1st   | 0    |\n",
      "| Exterior2nd   | 0    |\n",
      "| ExterQual     | 0    |\n",
      "| ExterCond     | 0    |\n",
      "| Foundation    | 0    |\n",
      "| BsmtFinSF1    | 0    |\n",
      "| BsmtFinSF2    | 0    |\n",
      "| BsmtUnfSF     | 0    |\n",
      "| TotalBsmtSF   | 0    |\n",
      "| MSSubClass    | 0    |\n",
      "| HeatingQC     | 0    |\n",
      "| SalePrice     | 0    |\n"
     ]
    }
   ],
   "source": [
    "print(round(prices.isnull().sum()/len(prices.index),2).sort_values(ascending=False).to_markdown())"
   ]
  },
  {
   "cell_type": "markdown",
   "id": "f57941d1",
   "metadata": {
    "pycharm": {
     "name": "#%% md\n"
    }
   },
   "source": [
    "There are still some columns which have null values, so we have to explore them individually "
   ]
  },
  {
   "cell_type": "code",
   "execution_count": 7,
   "id": "06643ea3",
   "metadata": {
    "pycharm": {
     "name": "#%%\n"
    }
   },
   "outputs": [],
   "source": [
    "haveNullValues = ['GarageType','GarageYrBlt','GarageFinish','GarageQual','GarageCond','BsmtFinType1','BsmtQual','BsmtCond','BsmtExposure','BsmtFinType2','MasVnrType','MasVnrArea']"
   ]
  },
  {
   "cell_type": "code",
   "execution_count": 8,
   "id": "9157e4fa",
   "metadata": {
    "pycharm": {
     "name": "#%%\n"
    }
   },
   "outputs": [
    {
     "data": {
      "text/plain": "12"
     },
     "execution_count": 8,
     "metadata": {},
     "output_type": "execute_result"
    }
   ],
   "source": [
    "len(haveNullValues)"
   ]
  },
  {
   "cell_type": "code",
   "execution_count": 9,
   "id": "678419be",
   "metadata": {
    "pycharm": {
     "name": "#%%\n"
    }
   },
   "outputs": [
    {
     "name": "stdout",
     "output_type": "stream",
     "text": [
      "<class 'pandas.core.frame.DataFrame'>\n",
      "RangeIndex: 1460 entries, 0 to 1459\n",
      "Data columns (total 12 columns):\n",
      " #   Column        Non-Null Count  Dtype  \n",
      "---  ------        --------------  -----  \n",
      " 0   GarageType    1379 non-null   object \n",
      " 1   GarageYrBlt   1379 non-null   float64\n",
      " 2   GarageFinish  1379 non-null   object \n",
      " 3   GarageQual    1379 non-null   object \n",
      " 4   GarageCond    1379 non-null   object \n",
      " 5   BsmtFinType1  1423 non-null   object \n",
      " 6   BsmtQual      1423 non-null   object \n",
      " 7   BsmtCond      1423 non-null   object \n",
      " 8   BsmtExposure  1422 non-null   object \n",
      " 9   BsmtFinType2  1422 non-null   object \n",
      " 10  MasVnrType    1452 non-null   object \n",
      " 11  MasVnrArea    1452 non-null   float64\n",
      "dtypes: float64(2), object(10)\n",
      "memory usage: 137.0+ KB\n"
     ]
    }
   ],
   "source": [
    "prices[haveNullValues].info()"
   ]
  },
  {
   "cell_type": "code",
   "execution_count": 10,
   "id": "715844f7",
   "metadata": {
    "pycharm": {
     "name": "#%%\n"
    }
   },
   "outputs": [
    {
     "name": "stdout",
     "output_type": "stream",
     "text": [
      "Attchd     870\n",
      "Detchd     387\n",
      "BuiltIn     88\n",
      "Basment     19\n",
      "CarPort      9\n",
      "2Types       6\n",
      "Name: GarageType, dtype: int64\n",
      "\n",
      "2005.0    65\n",
      "2006.0    59\n",
      "2004.0    53\n",
      "2003.0    50\n",
      "2007.0    49\n",
      "          ..\n",
      "1927.0     1\n",
      "1900.0     1\n",
      "1906.0     1\n",
      "1908.0     1\n",
      "1933.0     1\n",
      "Name: GarageYrBlt, Length: 97, dtype: int64\n",
      "\n",
      "Unf    605\n",
      "RFn    422\n",
      "Fin    352\n",
      "Name: GarageFinish, dtype: int64\n",
      "\n",
      "TA    1311\n",
      "Fa      48\n",
      "Gd      14\n",
      "Ex       3\n",
      "Po       3\n",
      "Name: GarageQual, dtype: int64\n",
      "\n",
      "TA    1326\n",
      "Fa      35\n",
      "Gd       9\n",
      "Po       7\n",
      "Ex       2\n",
      "Name: GarageCond, dtype: int64\n",
      "\n",
      "Unf    430\n",
      "GLQ    418\n",
      "ALQ    220\n",
      "BLQ    148\n",
      "Rec    133\n",
      "LwQ     74\n",
      "Name: BsmtFinType1, dtype: int64\n",
      "\n",
      "TA    649\n",
      "Gd    618\n",
      "Ex    121\n",
      "Fa     35\n",
      "Name: BsmtQual, dtype: int64\n",
      "\n",
      "TA    1311\n",
      "Gd      65\n",
      "Fa      45\n",
      "Po       2\n",
      "Name: BsmtCond, dtype: int64\n",
      "\n",
      "No    953\n",
      "Av    221\n",
      "Gd    134\n",
      "Mn    114\n",
      "Name: BsmtExposure, dtype: int64\n",
      "\n",
      "Unf    1256\n",
      "Rec      54\n",
      "LwQ      46\n",
      "BLQ      33\n",
      "ALQ      19\n",
      "GLQ      14\n",
      "Name: BsmtFinType2, dtype: int64\n",
      "\n",
      "None       864\n",
      "BrkFace    445\n",
      "Stone      128\n",
      "BrkCmn      15\n",
      "Name: MasVnrType, dtype: int64\n",
      "\n",
      "0.0      861\n",
      "180.0      8\n",
      "72.0       8\n",
      "108.0      8\n",
      "120.0      7\n",
      "        ... \n",
      "562.0      1\n",
      "89.0       1\n",
      "921.0      1\n",
      "762.0      1\n",
      "119.0      1\n",
      "Name: MasVnrArea, Length: 327, dtype: int64\n",
      "\n"
     ]
    }
   ],
   "source": [
    "for type in haveNullValues:\n",
    "    print(prices[type].value_counts(), end='\\n\\n')"
   ]
  },
  {
   "cell_type": "markdown",
   "id": "fb432688",
   "metadata": {
    "pycharm": {
     "name": "#%% md\n"
    }
   },
   "source": [
    "According to dictionary, NA in:\n",
    "- GarageType means No Garage in home,  So we can replace NA with NoGarage\n",
    "- GarageYrBlt is years garage old, and since NA in GarageType and GarageYrOld is equal, so GarageYrOld null will be there where there is no garage, so we replace NA with 0\n",
    "- GarageFinish is Interior finish of the garage, so it is NA in homes where there is no garage, so we can place NoGarage\n",
    "- GarageQual is garage quality, so it is NA where there is no garage, so we can replace NA with NoGarage\n",
    "- GarageCond is garage condition, so it is NA where there is no garage, so we can replace NA with NoGarage\n",
    "- BsmtFinType1 is Rating of basement finished area, so it is NA where there is no basement, so we can replace NA with NoBasement\n",
    "- BsmtFinType2 is Rating of basement finished area, so it is NA where there is no basement, so we can replace NA with NoBasement\n",
    "- BsmtQual is NA where there is no basement, so we can replace NA with NoBasement\n",
    "- BsmtCond is NA where there is no basement, so we can replace NA with NoBasement\n",
    "- BsmtExposure is NA where there is no basement, so we can replace NA with NoBasement\n",
    "- MasVnrType is NA where there is no masonry veneer, so we can replace NA with NoMasVnr\n",
    "- MasVnrArea is NA where there is no masonry veneer, so we can replace NA with 0"
   ]
  },
  {
   "cell_type": "code",
   "execution_count": 11,
   "id": "389826c8",
   "metadata": {
    "pycharm": {
     "name": "#%%\n"
    }
   },
   "outputs": [],
   "source": [
    "prices.GarageType.fillna('NoGarage',inplace=True)\n",
    "prices.GarageYrBlt.fillna(0,inplace=True)\n",
    "prices.GarageFinish.fillna('NoGarage',inplace=True)\n",
    "prices.GarageQual.fillna('NoGarage',inplace=True)\n",
    "prices.GarageCond.fillna('NoGarage',inplace=True)\n",
    "prices.BsmtFinType1.fillna('NoBasement',inplace=True)\n",
    "prices.BsmtFinType2.fillna('NoBasement',inplace=True)\n",
    "prices.BsmtQual.fillna('NoBasement',inplace=True)\n",
    "prices.BsmtCond.fillna('NoBasement',inplace=True)\n",
    "prices.BsmtExposure.fillna('NoBasement',inplace=True)\n",
    "prices.MasVnrType.fillna('NoMasVnr',inplace=True)\n",
    "prices.MasVnrArea.fillna(0,inplace=True)"
   ]
  },
  {
   "cell_type": "markdown",
   "id": "21168cc7",
   "metadata": {
    "pycharm": {
     "name": "#%% md\n"
    }
   },
   "source": [
    "Dropping `Id` as it does not provide any value"
   ]
  },
  {
   "cell_type": "code",
   "execution_count": 12,
   "id": "3c9cba51",
   "metadata": {
    "pycharm": {
     "name": "#%%\n"
    }
   },
   "outputs": [],
   "source": [
    "prices.drop(columns=['Id'], inplace=True)"
   ]
  },
  {
   "cell_type": "markdown",
   "id": "4efa387f",
   "metadata": {
    "pycharm": {
     "name": "#%% md\n"
    }
   },
   "source": [
    "Converting all columns which represent year, to how old it is:\n",
    "- `YearBuilt` to `YearOld`\n",
    "- `YearRemodAdd` to `YearRemodOld`\n",
    "- `GarageYrBlt` to `GarageYrOld`. Note if `GarageYrBlt` is 0, it means garage is not build, so we will replace `GaragerOld` to -1.\n",
    "- `YrSold` to `YrSoldOld`\n",
    "\n",
    "And after getting the columns, we will remove the previous columns"
   ]
  },
  {
   "cell_type": "code",
   "execution_count": 13,
   "id": "697635dd",
   "metadata": {
    "pycharm": {
     "name": "#%%\n"
    }
   },
   "outputs": [],
   "source": [
    "prices['YearOld'] = prices.YearBuilt.max()-prices.YearBuilt\n",
    "prices['YearRemodOld'] = prices.YearRemodAdd.max()-prices.YearRemodAdd\n",
    "prices['GarageYrOld'] = prices.GarageYrBlt.apply(lambda x: -1 if int(x)==0 else int(prices.GarageYrBlt.max())-int(x))\n",
    "prices['YrSoldOld'] = prices.YrSold.max()-prices.YrSold\n",
    "prices.drop(columns=['YearBuilt','YearRemodAdd','GarageYrBlt','YrSold'], inplace=True)"
   ]
  },
  {
   "cell_type": "code",
   "execution_count": 14,
   "id": "3736ef37",
   "metadata": {
    "pycharm": {
     "name": "#%%\n"
    }
   },
   "outputs": [],
   "source": [
    "categoricalFeatures = ['MSSubClass','MSZoning','Street','LotShape','LandContour',\n",
    "                       'Utilities','LotConfig','LandSlope','Neighborhood','Condition1',\n",
    "                      'Condition2','BldgType','HouseStyle','OverallQual','OverallCond',\n",
    "                      'RoofStyle','RoofMatl','Exterior1st','Exterior2nd','MasVnrType',\n",
    "                       'ExterQual','ExterCond','Foundation','BsmtQual','BsmtCond',\n",
    "                      'BsmtExposure','BsmtFinType1','BsmtFinType2','Heating','HeatingQC',\n",
    "                      'CentralAir','Electrical','KitchenQual','Functional',\n",
    "                      'GarageType','GarageFinish','GarageQual','GarageCond','PavedDrive','MoSold','SaleType','SaleCondition']\n",
    "continousFeatures = ['LotArea','YearOld','YearRemodOld','MasVnrArea','BsmtFinSF1',\n",
    "                    'BsmtFinSF2','BsmtUnfSF','TotalBsmtSF','1stFlrSF','2ndFlrSF',\n",
    "                    'LowQualFinSF','GrLivArea','BsmtFullBath','BsmtHalfBath','FullBath',\n",
    "                    'HalfBath','BedroomAbvGr','KitchenAbvGr','TotRmsAbvGrd','Fireplaces',\n",
    "                    'GarageYrOld','GarageCars','GarageArea','WoodDeckSF','OpenPorchSF',\n",
    "                    'EnclosedPorch','3SsnPorch','ScreenPorch','PoolArea','MiscVal','YrSoldOld','SalePrice']"
   ]
  },
  {
   "cell_type": "code",
   "execution_count": 15,
   "id": "089c3baf",
   "metadata": {
    "pycharm": {
     "name": "#%%\n"
    }
   },
   "outputs": [],
   "source": [
    "prices['MSSubClass'] = prices.MSSubClass.map({20:'1_STORY_1946_AND_NEWER',\n",
    "                                           30:'1_STORY_1946_AND_OLDER',\n",
    "                                          40:'1_STORY_FINISHED',\n",
    "                                          45:'1_HALF_STORY_UNFINISHED',\n",
    "                                          50:'1_HALF_STORY_FINISHED',\n",
    "                                          60:'2_STORY_1946_AND_NEWER',\n",
    "                                          70:'2_STORY_1946_AND_OLDER',\n",
    "                                          75:'2_HALF_STORY',\n",
    "                                          80:'SPLIT_OR_MULTI_LEVEL',\n",
    "                                          85:'SPLIT_FOYER',\n",
    "                                          90:'DUPLEX ',\n",
    "                                          120:'1_STORY_PUD',\n",
    "                                          150:'1_HALF_STORY_PUD',\n",
    "                                          160:'2_STORY_PUD_1946_AND_NEWER',\n",
    "                                          180:'PUD_MULTILEVEL',\n",
    "                                          190:'2_FAMILY_CONVERSION'})"
   ]
  },
  {
   "cell_type": "markdown",
   "id": "e366d564",
   "metadata": {
    "pycharm": {
     "name": "#%% md\n"
    }
   },
   "source": [
    "Creating dummy variables"
   ]
  },
  {
   "cell_type": "code",
   "execution_count": 16,
   "id": "8fb2a895",
   "metadata": {
    "pycharm": {
     "name": "#%%\n"
    }
   },
   "outputs": [],
   "source": [
    "for item in categoricalFeatures:\n",
    "    dummy_col = pd.get_dummies(prices[[item]],\n",
    "                               drop_first=True)\n",
    "    prices = pd.concat([prices,dummy_col],axis='columns')\n",
    "    prices.drop(columns=[item], inplace=True)"
   ]
  },
  {
   "cell_type": "markdown",
   "id": "816ed87e",
   "metadata": {
    "pycharm": {
     "name": "#%% md\n"
    }
   },
   "source": [
    "## Build the Linear Regression Model"
   ]
  },
  {
   "cell_type": "code",
   "execution_count": 17,
   "id": "b6dc71d1",
   "metadata": {
    "pycharm": {
     "name": "#%%\n"
    }
   },
   "outputs": [],
   "source": [
    "df_train,df_test = train_test_split(prices,train_size=0.7,test_size=0.3,random_state=100)"
   ]
  },
  {
   "cell_type": "markdown",
   "id": "3cc13a35",
   "metadata": {
    "pycharm": {
     "name": "#%% md\n"
    }
   },
   "source": [
    "## Scaling the dataset"
   ]
  },
  {
   "cell_type": "code",
   "execution_count": 18,
   "id": "7ce3b096",
   "metadata": {
    "pycharm": {
     "name": "#%%\n"
    }
   },
   "outputs": [],
   "source": [
    "scaler = MinMaxScaler()\n",
    "df_train[continousFeatures] = scaler.fit_transform(df_train[continousFeatures])\n",
    "df_test[continousFeatures] = scaler.transform(df_test[continousFeatures])"
   ]
  },
  {
   "cell_type": "code",
   "execution_count": 19,
   "id": "4662f2d4",
   "metadata": {
    "pycharm": {
     "name": "#%%\n"
    }
   },
   "outputs": [],
   "source": [
    "# Read in the data\n",
    "y_train = df_train.pop('SalePrice')\n",
    "X_train = df_train\n",
    "y_test = df_test.pop('SalePrice')\n",
    "X_test = df_test"
   ]
  },
  {
   "cell_type": "markdown",
   "id": "5b79f925",
   "metadata": {
    "pycharm": {
     "name": "#%% md\n"
    }
   },
   "source": [
    "# 4. Model Building and Evaluation"
   ]
  },
  {
   "cell_type": "markdown",
   "id": "437306c7",
   "metadata": {
    "pycharm": {
     "name": "#%% md\n"
    }
   },
   "source": [
    "## Ridge Regression"
   ]
  },
  {
   "cell_type": "code",
   "execution_count": 20,
   "id": "f4ab67dd",
   "metadata": {
    "pycharm": {
     "name": "#%%\n"
    }
   },
   "outputs": [
    {
     "name": "stdout",
     "output_type": "stream",
     "text": [
      "Fitting 5 folds for each of 28 candidates, totalling 140 fits\n"
     ]
    },
    {
     "data": {
      "text/plain": "GridSearchCV(cv=5, estimator=Ridge(),\n             param_grid={'alpha': [0.0001, 0.001, 0.01, 0.05, 0.1, 0.2, 0.3,\n                                   0.4, 0.5, 0.6, 0.7, 0.8, 0.9, 1.0, 2.0, 3.0,\n                                   4.0, 5.0, 6.0, 7.0, 8.0, 9.0, 10.0, 20, 50,\n                                   100, 500, 1000]},\n             return_train_score=True, scoring='r2', verbose=1)"
     },
     "execution_count": 20,
     "metadata": {},
     "output_type": "execute_result"
    }
   ],
   "source": [
    "# list of alphas to tune\n",
    "params = {'alpha': [0.0001, 0.001, 0.01, 0.05, 0.1, \n",
    " 0.2, 0.3, 0.4, 0.5, 0.6, 0.7, 0.8, 0.9, 1.0, 2.0, 3.0, \n",
    " 4.0, 5.0, 6.0, 7.0, 8.0, 9.0, 10.0, 20, 50, 100, 500, 1000 ]}\n",
    "\n",
    "\n",
    "ridge = Ridge()\n",
    "\n",
    "folds = 5\n",
    "model_cv = GridSearchCV(estimator=ridge,\n",
    "                       param_grid=params,\n",
    "                       scoring='r2',\n",
    "                       cv=folds,\n",
    "                       return_train_score=True,\n",
    "                       verbose=1)\n",
    "# Fitting the model with train set\n",
    "model_cv.fit(X_train, y_train)"
   ]
  },
  {
   "cell_type": "code",
   "execution_count": 21,
   "id": "ba4fe62a",
   "metadata": {
    "pycharm": {
     "name": "#%%\n"
    }
   },
   "outputs": [],
   "source": [
    "ridge_results = pd.DataFrame(model_cv.cv_results_)\n",
    "ridge_results['param_alpha'] = ridge_results['param_alpha'].astype('int32')"
   ]
  },
  {
   "cell_type": "code",
   "execution_count": 22,
   "id": "d225531b",
   "metadata": {
    "pycharm": {
     "name": "#%%\n"
    }
   },
   "outputs": [
    {
     "data": {
      "text/plain": "<Figure size 576x432 with 1 Axes>",
      "image/png": "[encoded data removed]"
     },
     "metadata": {
      "needs_background": "light"
     },
     "output_type": "display_data"
    }
   ],
   "source": [
    "plt.figure(figsize=(8,6))\n",
    "plt.plot(ridge_results['param_alpha'], ridge_results['mean_train_score'])\n",
    "# Plotting mean of the Test score\n",
    "plt.plot(ridge_results['param_alpha'], ridge_results['mean_test_score'])\n",
    "plt.legend(['train score', 'test score'])\n",
    "plt.xlabel('alpha')\n",
    "plt.ylabel('mean r2 score')\n",
    "plt.show()"
   ]
  },
  {
   "cell_type": "code",
   "execution_count": 23,
   "id": "032ed00d",
   "metadata": {
    "scrolled": true,
    "pycharm": {
     "name": "#%%\n"
    }
   },
   "outputs": [
    {
     "data": {
      "text/plain": "array([ 0.01981337,  0.03192779,  0.01687732,  0.00907012,  0.02277971,\n        0.02648745,  0.04986653,  0.06894258, -0.00544698,  0.0682138 ,\n        0.02303353,  0.00225277,  0.04428933,  0.01452706,  0.00594993,\n       -0.01623821,  0.04216305,  0.03365025,  0.04038137,  0.02842119,\n        0.0198381 ,  0.0051043 ,  0.00118955,  0.01137964,  0.00859493,\n        0.00528703,  0.00033879, -0.0053591 , -0.02158415,  0.00199724,\n        0.00415534,  0.00393748,  0.01039869, -0.00480939,  0.00470252,\n       -0.00981112, -0.00979889,  0.00666082, -0.00087319,  0.00999224,\n       -0.01357787, -0.00652377, -0.00909768, -0.00187591, -0.00219897,\n        0.00805918,  0.00781999,  0.01225584,  0.00584529,  0.00488966,\n        0.00327049, -0.01492919, -0.00029147,  0.01745716,  0.01347204,\n        0.01793941, -0.00522311,  0.01580819, -0.01554647, -0.00521352,\n       -0.00357694,  0.00652221,  0.00425871, -0.00158238,  0.00015369,\n       -0.00105672,  0.00010375, -0.01137871,  0.02683516, -0.02918482,\n       -0.01586283, -0.01329294, -0.01574769, -0.02246773, -0.01596402,\n        0.00125925, -0.00347319,  0.06362487,  0.03676221, -0.0123009 ,\n        0.00190212, -0.01519934, -0.0039105 ,  0.01915942,  0.03212913,\n       -0.0054176 ,  0.01283228, -0.01020588,  0.01185038,  0.00835253,\n       -0.00823262, -0.01037791,  0.00750561, -0.00274106, -0.00285212,\n        0.00443309,  0.01494052,  0.01301079, -0.0340758 , -0.00100093,\n        0.00173051,  0.00384141, -0.00979889, -0.00652377, -0.01768306,\n       -0.01435873,  0.00635169, -0.00031722, -0.00169771, -0.00548935,\n       -0.00845003, -0.00665516, -0.01002141, -0.00418753, -0.0029001 ,\n        0.00362204,  0.00485217,  0.00377011, -0.00235583,  0.00311675,\n       -0.00231689,  0.001102  , -0.00815943,  0.00934015,  0.0473475 ,\n        0.00126008, -0.00339383,  0.02280267, -0.00282188,  0.00151768,\n       -0.00653787, -0.00341572, -0.0029899 ,  0.00020102,  0.00359849,\n       -0.00344554, -0.00236647,  0.0010301 ,  0.00375465,  0.00126008,\n       -0.0035547 ,  0.00551831, -0.00282188,  0.00468103,  0.00436568,\n        0.02138448,  0.00166198,  0.        , -0.00434887, -0.00156562,\n       -0.007977  ,  0.00513453, -0.00272783, -0.01484196,  0.00256589,\n        0.00408667,  0.00400492,  0.00157166, -0.0185669 , -0.01109136,\n       -0.02606321, -0.00532297, -0.0046736 ,  0.        , -0.00481324,\n        0.0024948 ,  0.00234068, -0.00402859,  0.00431834,  0.0032705 ,\n       -0.02321634, -0.03996503, -0.00899138, -0.03617099,  0.00778123,\n       -0.00899138, -0.00532389,  0.01085649,  0.03032299, -0.00421015,\n       -0.01355298, -0.01062094,  0.00047353,  0.01255396, -0.00236959,\n       -0.00899138, -0.00075437, -0.00976963, -0.00808534,  0.0025731 ,\n       -0.00067532, -0.00686424, -0.00474194, -0.00153431, -0.00611588,\n        0.01141013,  0.00173177, -0.0031989 , -0.00221851, -0.00559257,\n       -0.006531  , -0.00175145, -0.0050575 ,  0.01142833,  0.00289098,\n        0.00366256,  0.        ,  0.00212719, -0.02826811, -0.03747094,\n       -0.04047899, -0.00607821, -0.00174291, -0.00230192,  0.0018297 ,\n       -0.00408111,  0.01454614,  0.00690898,  0.00243449,  0.00426917,\n       -0.00493597,  0.00075597,  0.0016565 ,  0.0016565 , -0.00736423,\n       -0.00870278, -0.01442627,  0.01483809,  0.0016565 , -0.00172753,\n       -0.00373711, -0.00256507, -0.00798959,  0.0016565 , -0.00340829,\n        0.00891013,  0.00345097,  0.00164574,  0.00848641,  0.00647008,\n        0.00873197, -0.00046449,  0.00312925,  0.00508519, -0.00202246,\n       -0.00159902,  0.00363242,  0.00806306, -0.0057765 ,  0.00392222,\n        0.00508519])"
     },
     "execution_count": 23,
     "metadata": {},
     "output_type": "execute_result"
    }
   ],
   "source": [
    "best_alpha = model_cv.best_params_['alpha']\n",
    "ridge = Ridge(alpha=best_alpha)\n",
    "\n",
    "ridge.fit(X_train, y_train)\n",
    "ridge.coef_"
   ]
  },
  {
   "cell_type": "code",
   "execution_count": 24,
   "id": "be2cbc25",
   "metadata": {
    "pycharm": {
     "name": "#%%\n"
    }
   },
   "outputs": [
    {
     "data": {
      "text/plain": "8.0"
     },
     "execution_count": 24,
     "metadata": {},
     "output_type": "execute_result"
    }
   ],
   "source": [
    "best_alpha"
   ]
  },
  {
   "cell_type": "code",
   "execution_count": 25,
   "id": "0aa8888e",
   "metadata": {
    "pycharm": {
     "name": "#%%\n"
    }
   },
   "outputs": [
    {
     "name": "stdout",
     "output_type": "stream",
     "text": [
      "R2 Score train 0.8799070313830523\n",
      "R2 Score test 0.8575110315716996\n"
     ]
    }
   ],
   "source": [
    "y_train_pred = ridge.predict(X_train)\n",
    "print(\"R2 Score train\", r2_score(y_true=y_train, y_pred=y_train_pred))\n",
    "\n",
    "y_test_pred = ridge.predict(X_test)\n",
    "print(\"R2 Score test\", r2_score(y_true=y_test, y_pred=y_test_pred))"
   ]
  },
  {
   "cell_type": "markdown",
   "id": "e1aa4ec4",
   "metadata": {
    "pycharm": {
     "name": "#%% md\n"
    }
   },
   "source": [
    "### Analysis from Ridge Regression"
   ]
  },
  {
   "cell_type": "markdown",
   "id": "b8593559",
   "metadata": {
    "pycharm": {
     "name": "#%% md\n"
    }
   },
   "source": [
    "The best alpha value is found to be 8.0 and R2 score made from model with alpha 10 is 87.99% in train set and 85.75% in test set which does not show any major variation "
   ]
  },
  {
   "cell_type": "markdown",
   "id": "e87b1543",
   "metadata": {
    "pycharm": {
     "name": "#%% md\n"
    }
   },
   "source": [
    "Top 10 features of Ridge regression\n"
   ]
  },
  {
   "cell_type": "code",
   "execution_count": 26,
   "id": "ce5d2cf7",
   "metadata": {
    "pycharm": {
     "name": "#%%\n"
    }
   },
   "outputs": [
    {
     "data": {
      "text/plain": "                   Params   Coef\n0                constant  0.097\n8                2ndFlrSF  0.069\n10              GrLivArea  0.068\n78   Neighborhood_NoRidge  0.064\n7                1stFlrSF  0.050\n125      RoofMatl_WdShngl  0.047\n13               FullBath  0.044\n17           TotRmsAbvGrd  0.042\n19             GarageCars  0.040\n79   Neighborhood_NridgHt  0.037\n18             Fireplaces  0.034",
      "text/html": "<div>\n<style scoped>\n    .dataframe tbody tr th:only-of-type {\n        vertical-align: middle;\n    }\n\n    .dataframe tbody tr th {\n        vertical-align: top;\n    }\n\n    .dataframe thead th {\n        text-align: right;\n    }\n</style>\n<table border=\"1\" class=\"dataframe\">\n  <thead>\n    <tr style=\"text-align: right;\">\n      <th></th>\n      <th>Params</th>\n      <th>Coef</th>\n    </tr>\n  </thead>\n  <tbody>\n    <tr>\n      <th>0</th>\n      <td>constant</td>\n      <td>0.097</td>\n    </tr>\n    <tr>\n      <th>8</th>\n      <td>2ndFlrSF</td>\n      <td>0.069</td>\n    </tr>\n    <tr>\n      <th>10</th>\n      <td>GrLivArea</td>\n      <td>0.068</td>\n    </tr>\n    <tr>\n      <th>78</th>\n      <td>Neighborhood_NoRidge</td>\n      <td>0.064</td>\n    </tr>\n    <tr>\n      <th>7</th>\n      <td>1stFlrSF</td>\n      <td>0.050</td>\n    </tr>\n    <tr>\n      <th>125</th>\n      <td>RoofMatl_WdShngl</td>\n      <td>0.047</td>\n    </tr>\n    <tr>\n      <th>13</th>\n      <td>FullBath</td>\n      <td>0.044</td>\n    </tr>\n    <tr>\n      <th>17</th>\n      <td>TotRmsAbvGrd</td>\n      <td>0.042</td>\n    </tr>\n    <tr>\n      <th>19</th>\n      <td>GarageCars</td>\n      <td>0.040</td>\n    </tr>\n    <tr>\n      <th>79</th>\n      <td>Neighborhood_NridgHt</td>\n      <td>0.037</td>\n    </tr>\n    <tr>\n      <th>18</th>\n      <td>Fireplaces</td>\n      <td>0.034</td>\n    </tr>\n  </tbody>\n</table>\n</div>"
     },
     "execution_count": 26,
     "metadata": {},
     "output_type": "execute_result"
    }
   ],
   "source": [
    "# Coefficients list\n",
    "model_ridge_parameters = list(ridge.coef_)\n",
    "# Inserting Y Intercept to model parameters list\n",
    "model_ridge_parameters.insert(0, ridge.intercept_)\n",
    "# Rounding off the coefficients\n",
    "model_ridge_parameters = [round(i,3) for i in model_ridge_parameters]\n",
    "cols = X_train.columns\n",
    "cols = cols.insert(0,'constant')\n",
    "ridge_params_df = pd.DataFrame({'Params':cols, 'Coef':model_ridge_parameters})\n",
    "(ridge_params_df.sort_values('Coef', ascending=False)).head(11)"
   ]
  },
  {
   "cell_type": "markdown",
   "id": "d67cb992",
   "metadata": {
    "pycharm": {
     "name": "#%% md\n"
    }
   },
   "source": [
    "## Lasso Regression"
   ]
  },
  {
   "cell_type": "code",
   "execution_count": 27,
   "id": "f6dd380e",
   "metadata": {
    "pycharm": {
     "name": "#%%\n"
    }
   },
   "outputs": [
    {
     "name": "stdout",
     "output_type": "stream",
     "text": [
      "Fitting 5 folds for each of 28 candidates, totalling 140 fits\n"
     ]
    },
    {
     "data": {
      "text/plain": "GridSearchCV(cv=5, estimator=Lasso(),\n             param_grid={'alpha': [0.0001, 0.001, 0.01, 0.05, 0.1, 0.2, 0.3,\n                                   0.4, 0.5, 0.6, 0.7, 0.8, 0.9, 1.0, 2.0, 3.0,\n                                   4.0, 5.0, 6.0, 7.0, 8.0, 9.0, 10.0, 20, 50,\n                                   100, 500, 1000]},\n             return_train_score=True, scoring='r2', verbose=1)"
     },
     "execution_count": 27,
     "metadata": {},
     "output_type": "execute_result"
    }
   ],
   "source": [
    "# list of alphas to tune\n",
    "params = {'alpha': [0.0001, 0.001, 0.01, 0.05, 0.1, \n",
    " 0.2, 0.3, 0.4, 0.5, 0.6, 0.7, 0.8, 0.9, 1.0, 2.0, 3.0, \n",
    " 4.0, 5.0, 6.0, 7.0, 8.0, 9.0, 10.0, 20, 50, 100, 500, 1000 ]}\n",
    "\n",
    "\n",
    "lasso = Lasso()\n",
    "\n",
    "folds = 5\n",
    "model_cv = GridSearchCV(estimator=lasso,\n",
    "                       param_grid=params,\n",
    "                       scoring='r2',\n",
    "                       cv=folds,\n",
    "                       return_train_score=True,\n",
    "                       verbose=1)\n",
    "# Fitting the model with train set\n",
    "model_cv.fit(X_train, y_train)"
   ]
  },
  {
   "cell_type": "code",
   "execution_count": 28,
   "id": "88c19bba",
   "metadata": {
    "pycharm": {
     "name": "#%%\n"
    }
   },
   "outputs": [],
   "source": [
    "lasso_results = pd.DataFrame(model_cv.cv_results_)\n",
    "lasso_results['param_alpha'] = lasso_results['param_alpha'].astype('int32')"
   ]
  },
  {
   "cell_type": "code",
   "execution_count": 29,
   "id": "5f92d46f",
   "metadata": {
    "pycharm": {
     "name": "#%%\n"
    }
   },
   "outputs": [
    {
     "data": {
      "text/plain": "<Figure size 576x432 with 1 Axes>",
      "image/png": "[encoded data removed]"
     },
     "metadata": {
      "needs_background": "light"
     },
     "output_type": "display_data"
    }
   ],
   "source": [
    "plt.figure(figsize=(8,6))\n",
    "plt.plot(lasso_results['param_alpha'], lasso_results['mean_train_score'])\n",
    "# Plotting mean of the Test score\n",
    "plt.plot(lasso_results['param_alpha'], lasso_results['mean_test_score'])\n",
    "plt.legend(['train score', 'test score'])\n",
    "plt.xlabel('alpha')\n",
    "plt.ylabel('mean r2 score')\n",
    "plt.show()"
   ]
  },
  {
   "cell_type": "code",
   "execution_count": 30,
   "id": "62e82e21",
   "metadata": {
    "pycharm": {
     "name": "#%%\n"
    }
   },
   "outputs": [
    {
     "data": {
      "text/plain": "array([ 3.40292223e-02,  2.82056535e-02,  0.00000000e+00,  0.00000000e+00,\n        3.18089046e-03,  0.00000000e+00,  0.00000000e+00,  4.47077957e-02,\n       -2.27180891e-02,  3.77320251e-01,  2.39713610e-02,  0.00000000e+00,\n        2.64889045e-02,  1.33494633e-04, -0.00000000e+00, -5.22846970e-02,\n        0.00000000e+00,  1.96301832e-02,  5.50990891e-02,  0.00000000e+00,\n        1.10632476e-02,  0.00000000e+00, -0.00000000e+00,  0.00000000e+00,\n        7.20517465e-03, -0.00000000e+00,  0.00000000e+00, -3.71651370e-03,\n       -2.06158983e-02, -0.00000000e+00,  1.17079497e-03,  0.00000000e+00,\n        1.32259184e-02, -0.00000000e+00,  0.00000000e+00, -0.00000000e+00,\n       -9.79381036e-03, -0.00000000e+00, -0.00000000e+00,  1.27864624e-03,\n       -3.55348507e-03, -0.00000000e+00, -0.00000000e+00,  0.00000000e+00,\n       -0.00000000e+00,  0.00000000e+00,  0.00000000e+00,  5.75206478e-03,\n        0.00000000e+00,  0.00000000e+00,  0.00000000e+00, -2.80351319e-02,\n        3.97228680e-04,  1.82433568e-02,  1.70118281e-02,  1.77039090e-02,\n       -0.00000000e+00,  1.78014802e-02, -9.45693519e-03, -0.00000000e+00,\n       -5.12488405e-05,  0.00000000e+00,  5.40862361e-03, -0.00000000e+00,\n        0.00000000e+00,  0.00000000e+00,  2.09576397e-04, -0.00000000e+00,\n        3.25158774e-02, -2.62565260e-02, -2.85831703e-03, -1.01113886e-02,\n       -1.38014948e-02, -1.81380598e-02, -1.22376505e-02,  0.00000000e+00,\n        0.00000000e+00,  6.82629530e-02,  4.59810797e-02, -1.21497341e-02,\n        0.00000000e+00, -1.14473786e-02,  0.00000000e+00,  3.19938395e-02,\n        4.39793905e-02, -0.00000000e+00,  1.30332500e-02, -1.28452517e-02,\n        1.02260987e-02,  0.00000000e+00, -0.00000000e+00, -8.50454471e-03,\n        2.44202189e-03, -0.00000000e+00, -0.00000000e+00,  0.00000000e+00,\n        0.00000000e+00,  0.00000000e+00, -3.10026722e-01, -0.00000000e+00,\n        0.00000000e+00,  0.00000000e+00, -1.22144768e-03, -0.00000000e+00,\n       -2.14058950e-02, -1.62672978e-02,  1.57939566e-02,  6.46552335e-03,\n       -1.84876354e-03, -0.00000000e+00, -1.21508880e-02,  0.00000000e+00,\n       -2.11004000e-03, -4.98132530e-03, -0.00000000e+00, -0.00000000e+00,\n        0.00000000e+00,  0.00000000e+00,  2.93933312e-02,  0.00000000e+00,\n        0.00000000e+00,  0.00000000e+00,  0.00000000e+00,  1.46332339e-02,\n        1.31169443e-01,  0.00000000e+00, -0.00000000e+00,  2.83268857e-02,\n       -0.00000000e+00,  0.00000000e+00, -0.00000000e+00, -0.00000000e+00,\n       -0.00000000e+00, -0.00000000e+00, -0.00000000e+00, -0.00000000e+00,\n        0.00000000e+00,  0.00000000e+00,  2.20536240e-03,  0.00000000e+00,\n        0.00000000e+00,  0.00000000e+00, -0.00000000e+00,  8.80774117e-03,\n        9.15220782e-04,  2.04548946e-02, -0.00000000e+00,  0.00000000e+00,\n       -7.64910477e-04, -0.00000000e+00, -1.37748726e-02,  6.16726322e-03,\n       -0.00000000e+00, -1.17885356e-02, -0.00000000e+00,  0.00000000e+00,\n        3.30425147e-03,  0.00000000e+00, -2.53655113e-02, -1.13451270e-02,\n       -2.26999536e-02, -0.00000000e+00, -0.00000000e+00,  0.00000000e+00,\n       -0.00000000e+00,  1.18632210e-03,  0.00000000e+00, -8.94675423e-04,\n        0.00000000e+00,  0.00000000e+00, -2.80135258e-02, -3.98756738e-02,\n       -1.87501552e-02, -3.64125726e-02,  1.28298068e-02, -8.79359592e-03,\n       -0.00000000e+00,  1.62493209e-02,  3.19454826e-02, -2.92839137e-03,\n       -1.13074500e-02, -1.83628037e-02,  7.22259076e-04,  8.02930319e-03,\n       -0.00000000e+00, -2.22664399e-05, -4.28721480e-04, -8.01747099e-03,\n       -8.82203043e-03,  0.00000000e+00, -0.00000000e+00, -0.00000000e+00,\n       -3.74187759e-03,  0.00000000e+00, -0.00000000e+00,  1.08227019e-02,\n        0.00000000e+00, -0.00000000e+00, -0.00000000e+00, -0.00000000e+00,\n       -4.02283764e-03, -0.00000000e+00, -3.31570899e-03,  9.18536208e-03,\n        0.00000000e+00,  0.00000000e+00,  0.00000000e+00,  0.00000000e+00,\n       -3.89277348e-02, -4.50429888e-02, -4.78271286e-02, -0.00000000e+00,\n        0.00000000e+00, -0.00000000e+00,  0.00000000e+00, -0.00000000e+00,\n        1.92901845e-02,  3.53567319e-03, -0.00000000e+00, -0.00000000e+00,\n       -0.00000000e+00,  0.00000000e+00,  0.00000000e+00,  0.00000000e+00,\n       -5.64090569e-03, -6.48695744e-03, -1.39428762e-02,  1.21458847e-02,\n        0.00000000e+00, -0.00000000e+00, -5.72159263e-04, -0.00000000e+00,\n       -5.41676860e-03,  0.00000000e+00, -0.00000000e+00,  0.00000000e+00,\n        0.00000000e+00, -0.00000000e+00,  0.00000000e+00,  0.00000000e+00,\n        0.00000000e+00,  0.00000000e+00,  0.00000000e+00,  1.12788328e-02,\n       -0.00000000e+00, -0.00000000e+00,  0.00000000e+00,  0.00000000e+00,\n       -0.00000000e+00,  3.86185213e-03,  2.11825923e-03])"
     },
     "execution_count": 30,
     "metadata": {},
     "output_type": "execute_result"
    }
   ],
   "source": [
    "best_alpha = model_cv.best_params_['alpha']\n",
    "lasso = Lasso(alpha=best_alpha)\n",
    "\n",
    "lasso.fit(X_train, y_train)\n",
    "lasso.coef_"
   ]
  },
  {
   "cell_type": "code",
   "execution_count": 31,
   "id": "2a8ecd5c",
   "metadata": {
    "pycharm": {
     "name": "#%%\n"
    }
   },
   "outputs": [
    {
     "data": {
      "text/plain": "0.0001"
     },
     "execution_count": 31,
     "metadata": {},
     "output_type": "execute_result"
    }
   ],
   "source": [
    "best_alpha"
   ]
  },
  {
   "cell_type": "code",
   "execution_count": 32,
   "id": "d0e0a8ec",
   "metadata": {
    "pycharm": {
     "name": "#%%\n"
    }
   },
   "outputs": [
    {
     "name": "stdout",
     "output_type": "stream",
     "text": [
      "R2 Score train 0.8993450448434477\n",
      "R2 Score test 0.8496817271601458\n"
     ]
    }
   ],
   "source": [
    "y_train_pred = lasso.predict(X_train)\n",
    "print(\"R2 Score train\", r2_score(y_true=y_train, y_pred=y_train_pred))\n",
    "\n",
    "y_test_pred = lasso.predict(X_test)\n",
    "print(\"R2 Score test\", r2_score(y_true=y_test, y_pred=y_test_pred))"
   ]
  },
  {
   "cell_type": "markdown",
   "id": "f008b627",
   "metadata": {
    "pycharm": {
     "name": "#%% md\n"
    }
   },
   "source": [
    "### Analysis from Lasso Regression"
   ]
  },
  {
   "cell_type": "markdown",
   "id": "3dbce1db",
   "metadata": {
    "pycharm": {
     "name": "#%% md\n"
    }
   },
   "source": [
    "The best alpha value is found to be 100.0 and R2 score made from model with alpha 100 is 89.93% in train set and 84.96% in test set which does not show any major variation"
   ]
  },
  {
   "cell_type": "markdown",
   "id": "0f169fdb",
   "metadata": {
    "pycharm": {
     "name": "#%% md\n"
    }
   },
   "source": [
    "Top 10 features of Lasso regression\n"
   ]
  },
  {
   "cell_type": "code",
   "execution_count": 33,
   "outputs": [
    {
     "data": {
      "text/plain": "                   Params   Coef\n10              GrLivArea  0.377\n125      RoofMatl_WdShngl  0.131\n0                constant  0.071\n78   Neighborhood_NoRidge  0.068\n19             GarageCars  0.055\n79   Neighborhood_NridgHt  0.046\n8                2ndFlrSF  0.045\n85   Neighborhood_StoneBr  0.044\n1                 LotArea  0.034\n69   Neighborhood_Crawfor  0.033\n84   Neighborhood_Somerst  0.032",
      "text/html": "<div>\n<style scoped>\n    .dataframe tbody tr th:only-of-type {\n        vertical-align: middle;\n    }\n\n    .dataframe tbody tr th {\n        vertical-align: top;\n    }\n\n    .dataframe thead th {\n        text-align: right;\n    }\n</style>\n<table border=\"1\" class=\"dataframe\">\n  <thead>\n    <tr style=\"text-align: right;\">\n      <th></th>\n      <th>Params</th>\n      <th>Coef</th>\n    </tr>\n  </thead>\n  <tbody>\n    <tr>\n      <th>10</th>\n      <td>GrLivArea</td>\n      <td>0.377</td>\n    </tr>\n    <tr>\n      <th>125</th>\n      <td>RoofMatl_WdShngl</td>\n      <td>0.131</td>\n    </tr>\n    <tr>\n      <th>0</th>\n      <td>constant</td>\n      <td>0.071</td>\n    </tr>\n    <tr>\n      <th>78</th>\n      <td>Neighborhood_NoRidge</td>\n      <td>0.068</td>\n    </tr>\n    <tr>\n      <th>19</th>\n      <td>GarageCars</td>\n      <td>0.055</td>\n    </tr>\n    <tr>\n      <th>79</th>\n      <td>Neighborhood_NridgHt</td>\n      <td>0.046</td>\n    </tr>\n    <tr>\n      <th>8</th>\n      <td>2ndFlrSF</td>\n      <td>0.045</td>\n    </tr>\n    <tr>\n      <th>85</th>\n      <td>Neighborhood_StoneBr</td>\n      <td>0.044</td>\n    </tr>\n    <tr>\n      <th>1</th>\n      <td>LotArea</td>\n      <td>0.034</td>\n    </tr>\n    <tr>\n      <th>69</th>\n      <td>Neighborhood_Crawfor</td>\n      <td>0.033</td>\n    </tr>\n    <tr>\n      <th>84</th>\n      <td>Neighborhood_Somerst</td>\n      <td>0.032</td>\n    </tr>\n  </tbody>\n</table>\n</div>"
     },
     "execution_count": 33,
     "metadata": {},
     "output_type": "execute_result"
    }
   ],
   "source": [
    "# Coefficients list\n",
    "model_lasso_parameters = list(lasso.coef_)\n",
    "# Inserting Y Intercept to model parameters list\n",
    "model_lasso_parameters.insert(0, lasso.intercept_)\n",
    "# Rounding off the coefficients\n",
    "model_lasso_parameters = [round(i,3) for i in model_lasso_parameters]\n",
    "cols = X_train.columns\n",
    "cols = cols.insert(0,'constant')\n",
    "lasso_params_df = pd.DataFrame({'Params':cols, 'Coef':model_lasso_parameters})\n",
    "(lasso_params_df.sort_values('Coef', ascending=False)).head(11)"
   ],
   "metadata": {
    "collapsed": false,
    "pycharm": {
     "name": "#%%\n"
    }
   }
  },
  {
   "cell_type": "markdown",
   "source": [
    "# Model Evaluation"
   ],
   "metadata": {
    "collapsed": false,
    "pycharm": {
     "name": "#%% md\n"
    }
   }
  },
  {
   "cell_type": "markdown",
   "source": [
    "## Ridge Regression"
   ],
   "metadata": {
    "collapsed": false,
    "pycharm": {
     "name": "#%% md\n"
    }
   }
  },
  {
   "cell_type": "code",
   "execution_count": 34,
   "outputs": [
    {
     "data": {
      "text/plain": "<Figure size 432x288 with 1 Axes>",
      "image/png": "[encoded data removed]"
     },
     "metadata": {
      "needs_background": "light"
     },
     "output_type": "display_data"
    }
   ],
   "source": [
    "y_test_pred = ridge.predict(X_test)\n",
    "y_res=y_test-y_test_pred\n",
    "sns.distplot(y_res,kde=True)\n",
    "plt.title('Normality of error terms/residuals')\n",
    "plt.xlabel(\"Residuals\")\n",
    "plt.show()"
   ],
   "metadata": {
    "collapsed": false,
    "pycharm": {
     "name": "#%%\n"
    }
   }
  },
  {
   "cell_type": "code",
   "execution_count": 35,
   "outputs": [
    {
     "data": {
      "text/plain": "<Figure size 432x288 with 1 Axes>",
      "image/png": "[encoded data removed]"
     },
     "metadata": {
      "needs_background": "light"
     },
     "output_type": "display_data"
    }
   ],
   "source": [
    "y_test_pred = lasso.predict(X_test)\n",
    "y_res=y_test-y_test_pred\n",
    "sns.distplot(y_res,kde=True)\n",
    "plt.title('Normality of error terms/residuals')\n",
    "plt.xlabel(\"Residuals\")\n",
    "plt.show()"
   ],
   "metadata": {
    "collapsed": false,
    "pycharm": {
     "name": "#%%\n"
    }
   }
  },
  {
   "cell_type": "markdown",
   "source": [
    "# Question 3"
   ],
   "metadata": {
    "collapsed": false,
    "pycharm": {
     "name": "#%% md\n"
    }
   }
  },
  {
   "cell_type": "code",
   "execution_count": 36,
   "outputs": [],
   "source": [
    "prices.drop(columns=['2ndFlrSF','GrLivArea','Neighborhood_NoRidge','1stFlrSF','RoofMatl_WdShngl'], inplace=True)"
   ],
   "metadata": {
    "collapsed": false,
    "pycharm": {
     "name": "#%%\n"
    }
   }
  },
  {
   "cell_type": "code",
   "execution_count": 37,
   "outputs": [],
   "source": [
    "df_train,df_test = train_test_split(prices,train_size=0.7,test_size=0.3,random_state=100)"
   ],
   "metadata": {
    "collapsed": false,
    "pycharm": {
     "name": "#%%\n"
    }
   }
  },
  {
   "cell_type": "code",
   "execution_count": 38,
   "outputs": [],
   "source": [
    "continousFeatures.remove('1stFlrSF')\n",
    "continousFeatures.remove('2ndFlrSF')\n",
    "continousFeatures.remove('GrLivArea')\n",
    "scaler = MinMaxScaler()\n",
    "df_train[continousFeatures] = scaler.fit_transform(df_train[continousFeatures])\n",
    "df_test[continousFeatures] = scaler.transform(df_test[continousFeatures])"
   ],
   "metadata": {
    "collapsed": false,
    "pycharm": {
     "name": "#%%\n"
    }
   }
  },
  {
   "cell_type": "code",
   "execution_count": 39,
   "outputs": [],
   "source": [
    "# Read in the data\n",
    "y_train = df_train.pop('SalePrice')\n",
    "X_train = df_train\n",
    "y_test = df_test.pop('SalePrice')\n",
    "X_test = df_test"
   ],
   "metadata": {
    "collapsed": false,
    "pycharm": {
     "name": "#%%\n"
    }
   }
  },
  {
   "cell_type": "code",
   "execution_count": 40,
   "outputs": [
    {
     "name": "stdout",
     "output_type": "stream",
     "text": [
      "Fitting 5 folds for each of 28 candidates, totalling 140 fits\n"
     ]
    },
    {
     "data": {
      "text/plain": "GridSearchCV(cv=5, estimator=Lasso(),\n             param_grid={'alpha': [0.0001, 0.001, 0.01, 0.05, 0.1, 0.2, 0.3,\n                                   0.4, 0.5, 0.6, 0.7, 0.8, 0.9, 1.0, 2.0, 3.0,\n                                   4.0, 5.0, 6.0, 7.0, 8.0, 9.0, 10.0, 20, 50,\n                                   100, 500, 1000]},\n             return_train_score=True, scoring='r2', verbose=1)"
     },
     "execution_count": 40,
     "metadata": {},
     "output_type": "execute_result"
    }
   ],
   "source": [
    "# list of alphas to tune\n",
    "params = {'alpha': [0.0001, 0.001, 0.01, 0.05, 0.1,\n",
    " 0.2, 0.3, 0.4, 0.5, 0.6, 0.7, 0.8, 0.9, 1.0, 2.0, 3.0,\n",
    " 4.0, 5.0, 6.0, 7.0, 8.0, 9.0, 10.0, 20, 50, 100, 500, 1000 ]}\n",
    "\n",
    "\n",
    "lasso = Lasso()\n",
    "\n",
    "folds = 5\n",
    "model_cv = GridSearchCV(estimator=lasso,\n",
    "                       param_grid=params,\n",
    "                       scoring='r2',\n",
    "                       cv=folds,\n",
    "                       return_train_score=True,\n",
    "                       verbose=1)\n",
    "# Fitting the model with train set\n",
    "model_cv.fit(X_train, y_train)"
   ],
   "metadata": {
    "collapsed": false,
    "pycharm": {
     "name": "#%%\n"
    }
   }
  },
  {
   "cell_type": "code",
   "execution_count": 41,
   "outputs": [],
   "source": [
    "lasso_results = pd.DataFrame(model_cv.cv_results_)\n",
    "lasso_results['param_alpha'] = lasso_results['param_alpha'].astype('int32')"
   ],
   "metadata": {
    "collapsed": false,
    "pycharm": {
     "name": "#%%\n"
    }
   }
  },
  {
   "cell_type": "code",
   "execution_count": 42,
   "outputs": [
    {
     "data": {
      "text/plain": "<Figure size 576x432 with 1 Axes>",
      "image/png": "[encoded data removed]"
     },
     "metadata": {
      "needs_background": "light"
     },
     "output_type": "display_data"
    }
   ],
   "source": [
    "plt.figure(figsize=(8,6))\n",
    "plt.plot(lasso_results['param_alpha'], lasso_results['mean_train_score'])\n",
    "# Plotting mean of the Test score\n",
    "plt.plot(lasso_results['param_alpha'], lasso_results['mean_test_score'])\n",
    "plt.legend(['train score', 'test score'])\n",
    "plt.xlabel('alpha')\n",
    "plt.ylabel('mean r2 score')\n",
    "plt.show()"
   ],
   "metadata": {
    "collapsed": false,
    "pycharm": {
     "name": "#%%\n"
    }
   }
  },
  {
   "cell_type": "code",
   "execution_count": 43,
   "outputs": [
    {
     "data": {
      "text/plain": "array([ 8.61733744e-02,  8.92037571e-02,  0.00000000e+00,  0.00000000e+00,\n        0.00000000e+00,  1.86900094e-01, -8.47143072e-03,  2.14819239e-02,\n        0.00000000e+00,  7.75786284e-02,  2.97645371e-02,  0.00000000e+00,\n       -5.58128230e-02,  1.04363500e-01,  2.89042265e-02,  6.29785804e-02,\n        1.56866434e-02,  2.07435667e-02,  0.00000000e+00,  0.00000000e+00,\n        0.00000000e+00,  6.25178517e-04,  0.00000000e+00,  0.00000000e+00,\n       -0.00000000e+00, -2.29042989e-02,  0.00000000e+00,  4.12152022e-03,\n        0.00000000e+00,  6.38064596e-03, -5.25022495e-03,  0.00000000e+00,\n       -5.18481332e-03, -1.49854351e-02,  2.99246150e-03,  2.84957695e-03,\n        2.27479813e-03, -1.52501239e-02, -1.31306927e-02, -0.00000000e+00,\n       -0.00000000e+00, -0.00000000e+00,  0.00000000e+00,  3.54148925e-03,\n        4.04042512e-03, -0.00000000e+00,  0.00000000e+00, -0.00000000e+00,\n       -4.25964951e-02, -1.06375443e-03,  1.29587413e-02,  1.54051016e-02,\n        1.46120846e-02, -0.00000000e+00,  1.40953013e-02, -1.72751260e-02,\n       -0.00000000e+00, -4.36272370e-03,  1.00424614e-03, -0.00000000e+00,\n       -0.00000000e+00, -7.68576176e-03, -6.12116757e-03, -1.10851519e-02,\n       -3.03941144e-02,  2.34666070e-02, -3.70435618e-02, -3.53529295e-02,\n       -2.33915719e-02, -1.95592105e-02, -3.93260258e-02, -2.48741765e-02,\n       -0.00000000e+00, -2.08932439e-02,  3.15796998e-03, -1.66942930e-02,\n       -0.00000000e+00, -2.63450757e-02, -2.35263458e-02,  0.00000000e+00,\n        1.81691583e-02, -3.16941010e-02,  0.00000000e+00, -1.15817729e-02,\n        9.20962272e-03,  0.00000000e+00, -0.00000000e+00, -1.50764330e-02,\n        2.14707837e-03, -0.00000000e+00, -0.00000000e+00, -0.00000000e+00,\n        0.00000000e+00,  0.00000000e+00, -2.77070056e-01, -0.00000000e+00,\n        0.00000000e+00,  0.00000000e+00, -1.57572778e-03, -1.90491880e-03,\n       -2.33910142e-02, -2.30110080e-02,  0.00000000e+00, -8.28735328e-03,\n        0.00000000e+00, -0.00000000e+00,  0.00000000e+00, -1.02954824e-02,\n       -1.54785406e-02, -5.62712774e-03, -0.00000000e+00,  0.00000000e+00,\n        0.00000000e+00,  0.00000000e+00, -3.74665857e-03,  0.00000000e+00,\n       -0.00000000e+00,  0.00000000e+00, -2.40988338e-03,  1.43851520e-02,\n        0.00000000e+00, -0.00000000e+00,  2.67255065e-02, -0.00000000e+00,\n        0.00000000e+00, -0.00000000e+00, -0.00000000e+00,  0.00000000e+00,\n       -4.71360406e-03,  0.00000000e+00, -0.00000000e+00,  0.00000000e+00,\n       -5.57870376e-04,  0.00000000e+00,  0.00000000e+00, -0.00000000e+00,\n        0.00000000e+00, -0.00000000e+00,  5.98072602e-03,  3.12399520e-03,\n        4.64001032e-02,  0.00000000e+00,  0.00000000e+00, -5.63502033e-04,\n       -0.00000000e+00, -1.15616917e-02,  2.88885730e-03, -0.00000000e+00,\n       -1.05357807e-02,  0.00000000e+00,  0.00000000e+00,  9.37599812e-03,\n       -2.69694933e-03, -2.19848357e-02, -4.96315645e-03, -2.49589061e-02,\n       -0.00000000e+00, -0.00000000e+00,  0.00000000e+00, -0.00000000e+00,\n        1.16655768e-03,  9.84971018e-04, -0.00000000e+00,  0.00000000e+00,\n        0.00000000e+00, -4.19029196e-02, -4.77290415e-02, -0.00000000e+00,\n       -4.70843617e-02,  4.03494387e-03, -0.00000000e+00, -0.00000000e+00,\n        6.68911373e-03,  3.14444554e-02, -4.67763969e-04, -7.78334430e-03,\n       -1.55310587e-02,  1.29477377e-03,  1.52034356e-02,  0.00000000e+00,\n       -0.00000000e+00, -0.00000000e+00, -6.10780088e-03, -7.43889559e-03,\n        0.00000000e+00,  0.00000000e+00, -1.39248925e-02, -1.73094972e-03,\n       -0.00000000e+00, -0.00000000e+00,  1.24314177e-02,  0.00000000e+00,\n       -0.00000000e+00, -0.00000000e+00, -3.92082113e-03, -4.96203415e-03,\n       -0.00000000e+00, -5.15601314e-03,  8.44279035e-03, -0.00000000e+00,\n        0.00000000e+00,  0.00000000e+00, -0.00000000e+00, -4.30281009e-02,\n       -4.64761062e-02, -5.16551576e-02, -0.00000000e+00, -0.00000000e+00,\n        0.00000000e+00, -0.00000000e+00, -0.00000000e+00,  1.86103393e-02,\n        0.00000000e+00,  0.00000000e+00,  6.50508861e-03, -4.12042755e-03,\n       -6.80025696e-03,  0.00000000e+00,  0.00000000e+00, -3.83741155e-03,\n       -2.13296230e-03, -1.54020455e-02,  2.56592387e-02,  0.00000000e+00,\n       -0.00000000e+00, -1.25258192e-03, -7.10060332e-03, -6.31375670e-03,\n        0.00000000e+00,  0.00000000e+00,  0.00000000e+00,  0.00000000e+00,\n        0.00000000e+00,  2.69246537e-03,  0.00000000e+00,  0.00000000e+00,\n       -0.00000000e+00,  0.00000000e+00,  9.50530181e-05, -0.00000000e+00,\n       -0.00000000e+00,  0.00000000e+00,  3.07709049e-03, -4.84237186e-03,\n        0.00000000e+00,  1.75725525e-04])"
     },
     "execution_count": 43,
     "metadata": {},
     "output_type": "execute_result"
    }
   ],
   "source": [
    "best_alpha = model_cv.best_params_['alpha']\n",
    "lasso = Lasso(alpha=best_alpha)\n",
    "\n",
    "lasso.fit(X_train, y_train)\n",
    "lasso.coef_"
   ],
   "metadata": {
    "collapsed": false,
    "pycharm": {
     "name": "#%%\n"
    }
   }
  },
  {
   "cell_type": "code",
   "execution_count": 44,
   "outputs": [
    {
     "data": {
      "text/plain": "0.0001"
     },
     "execution_count": 44,
     "metadata": {},
     "output_type": "execute_result"
    }
   ],
   "source": [
    "best_alpha"
   ],
   "metadata": {
    "collapsed": false,
    "pycharm": {
     "name": "#%%\n"
    }
   }
  },
  {
   "cell_type": "markdown",
   "source": [
    "## Top 5 features of Lasso regression"
   ],
   "metadata": {
    "collapsed": false,
    "pycharm": {
     "name": "#%% md\n"
    }
   }
  },
  {
   "cell_type": "code",
   "execution_count": 45,
   "outputs": [],
   "source": [
    "# Coefficients list\n",
    "model_lasso_parameters = list(lasso.coef_)\n",
    "# Inserting Y Intercept to model parameters list\n",
    "model_lasso_parameters.insert(0, lasso.intercept_)\n",
    "# Rounding off the coefficients\n",
    "model_lasso_parameters = [round(i,3) for i in model_lasso_parameters]\n",
    "cols = X_train.columns\n",
    "cols = cols.insert(0,'constant')\n"
   ],
   "metadata": {
    "collapsed": false,
    "pycharm": {
     "name": "#%%\n"
    }
   }
  },
  {
   "cell_type": "code",
   "execution_count": 46,
   "outputs": [
    {
     "data": {
      "text/plain": "          Params   Coef\n6    TotalBsmtSF  0.187\n0       constant  0.132\n14  TotRmsAbvGrd  0.104\n2     MasVnrArea  0.089\n1        LotArea  0.086\n10      FullBath  0.078",
      "text/html": "<div>\n<style scoped>\n    .dataframe tbody tr th:only-of-type {\n        vertical-align: middle;\n    }\n\n    .dataframe tbody tr th {\n        vertical-align: top;\n    }\n\n    .dataframe thead th {\n        text-align: right;\n    }\n</style>\n<table border=\"1\" class=\"dataframe\">\n  <thead>\n    <tr style=\"text-align: right;\">\n      <th></th>\n      <th>Params</th>\n      <th>Coef</th>\n    </tr>\n  </thead>\n  <tbody>\n    <tr>\n      <th>6</th>\n      <td>TotalBsmtSF</td>\n      <td>0.187</td>\n    </tr>\n    <tr>\n      <th>0</th>\n      <td>constant</td>\n      <td>0.132</td>\n    </tr>\n    <tr>\n      <th>14</th>\n      <td>TotRmsAbvGrd</td>\n      <td>0.104</td>\n    </tr>\n    <tr>\n      <th>2</th>\n      <td>MasVnrArea</td>\n      <td>0.089</td>\n    </tr>\n    <tr>\n      <th>1</th>\n      <td>LotArea</td>\n      <td>0.086</td>\n    </tr>\n    <tr>\n      <th>10</th>\n      <td>FullBath</td>\n      <td>0.078</td>\n    </tr>\n  </tbody>\n</table>\n</div>"
     },
     "execution_count": 46,
     "metadata": {},
     "output_type": "execute_result"
    }
   ],
   "source": [
    "lasso_params_df = pd.DataFrame({'Params':cols, 'Coef':model_lasso_parameters})\n",
    "(lasso_params_df.sort_values('Coef', ascending=False)).head(6)"
   ],
   "metadata": {
    "collapsed": false,
    "pycharm": {
     "name": "#%%\n"
    }
   }
  }
 ],
 "metadata": {
  "kernelspec": {
   "display_name": "Python 3 (ipykernel)",
   "language": "python",
   "name": "python3"
  },
  "language_info": {
   "codemirror_mode": {
    "name": "ipython",
    "version": 3
   },
   "file_extension": ".py",
   "mimetype": "text/x-python",
   "name": "python",
   "nbconvert_exporter": "python",
   "pygments_lexer": "ipython3",
   "version": "3.9.7"
  }
 },
 "nbformat": 4,
 "nbformat_minor": 5
}